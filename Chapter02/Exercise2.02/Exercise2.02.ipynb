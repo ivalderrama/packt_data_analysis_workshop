{
  "nbformat": 4,
  "nbformat_minor": 0,
  "metadata": {
    "kernelspec": {
      "display_name": "Python 3",
      "language": "python",
      "name": "python3"
    },
    "language_info": {
      "codemirror_mode": {
        "name": "ipython",
        "version": 3
      },
      "file_extension": ".py",
      "mimetype": "text/x-python",
      "name": "python",
      "nbconvert_exporter": "python",
      "pygments_lexer": "ipython3",
      "version": "3.6.5"
    },
    "colab": {
      "name": "Exercise2.02.ipynb",
      "provenance": []
    }
  },
  "cells": [
    {
      "cell_type": "code",
      "metadata": {
        "id": "_Pkmfqg8zWco",
        "colab_type": "code",
        "colab": {}
      },
      "source": [
        "import pandas as pd\n",
        "import seaborn as sns\n",
        "import matplotlib.pyplot as plt\n",
        "\n",
        "%matplotlib inline\n",
        "\n",
        "# import data from the github page of the book\n",
        "data = pd.read_csv('https://raw.githubusercontent.com/PacktWorkshops/The-Data-Analysis-Workshop/master/Chapter02/data/Absenteeism_at_work.csv', sep=\";\")"
      ],
      "execution_count": 0,
      "outputs": []
    },
    {
      "cell_type": "code",
      "metadata": {
        "id": "iSLL4gk5zWct",
        "colab_type": "code",
        "outputId": "f0d50c8b-ba9e-4aa1-ea10-21e869f7aa9c",
        "colab": {
          "base_uri": "https://localhost:8080/",
          "height": 391
        }
      },
      "source": [
        "# print dimensionality of the data, columns, types and missing values\n",
        "print(f\"Data dimension: {data.shape}\")\n",
        "for col in data.columns:\n",
        "    print(f\"Column: {col:35} | type: {str(data[col].dtype):7} | missing values: {data[col].isna().sum():3d}\")"
      ],
      "execution_count": 0,
      "outputs": [
        {
          "output_type": "stream",
          "text": [
            "Data dimension: (740, 21)\n",
            "Column: ID                                  | type: int64   | missing values:   0\n",
            "Column: Reason for absence                  | type: int64   | missing values:   0\n",
            "Column: Month of absence                    | type: int64   | missing values:   0\n",
            "Column: Day of the week                     | type: int64   | missing values:   0\n",
            "Column: Seasons                             | type: int64   | missing values:   0\n",
            "Column: Transportation expense              | type: int64   | missing values:   0\n",
            "Column: Distance from Residence to Work     | type: int64   | missing values:   0\n",
            "Column: Service time                        | type: int64   | missing values:   0\n",
            "Column: Age                                 | type: int64   | missing values:   0\n",
            "Column: Work load Average/day               | type: float64 | missing values:   0\n",
            "Column: Hit target                          | type: int64   | missing values:   0\n",
            "Column: Disciplinary failure                | type: int64   | missing values:   0\n",
            "Column: Education                           | type: int64   | missing values:   0\n",
            "Column: Son                                 | type: int64   | missing values:   0\n",
            "Column: Social drinker                      | type: int64   | missing values:   0\n",
            "Column: Social smoker                       | type: int64   | missing values:   0\n",
            "Column: Pet                                 | type: int64   | missing values:   0\n",
            "Column: Weight                              | type: int64   | missing values:   0\n",
            "Column: Height                              | type: int64   | missing values:   0\n",
            "Column: Body mass index                     | type: int64   | missing values:   0\n",
            "Column: Absenteeism time in hours           | type: int64   | missing values:   0\n"
          ],
          "name": "stdout"
        }
      ]
    },
    {
      "cell_type": "code",
      "metadata": {
        "colab_type": "code",
        "outputId": "cc22ea2d-0cda-4793-e7d5-067455db58d3",
        "id": "yYBokFuztYyt",
        "colab": {
          "base_uri": "https://localhost:8080/",
          "height": 700
        }
      },
      "source": [
        "# compute statistics on numerical features\n",
        "data.describe().T"
      ],
      "execution_count": 0,
      "outputs": [
        {
          "output_type": "execute_result",
          "data": {
            "text/html": [
              "<div>\n",
              "<style scoped>\n",
              "    .dataframe tbody tr th:only-of-type {\n",
              "        vertical-align: middle;\n",
              "    }\n",
              "\n",
              "    .dataframe tbody tr th {\n",
              "        vertical-align: top;\n",
              "    }\n",
              "\n",
              "    .dataframe thead th {\n",
              "        text-align: right;\n",
              "    }\n",
              "</style>\n",
              "<table border=\"1\" class=\"dataframe\">\n",
              "  <thead>\n",
              "    <tr style=\"text-align: right;\">\n",
              "      <th></th>\n",
              "      <th>count</th>\n",
              "      <th>mean</th>\n",
              "      <th>std</th>\n",
              "      <th>min</th>\n",
              "      <th>25%</th>\n",
              "      <th>50%</th>\n",
              "      <th>75%</th>\n",
              "      <th>max</th>\n",
              "    </tr>\n",
              "  </thead>\n",
              "  <tbody>\n",
              "    <tr>\n",
              "      <th>ID</th>\n",
              "      <td>740.0</td>\n",
              "      <td>18.017568</td>\n",
              "      <td>11.021247</td>\n",
              "      <td>1.000</td>\n",
              "      <td>9.000</td>\n",
              "      <td>18.000</td>\n",
              "      <td>28.000</td>\n",
              "      <td>36.000</td>\n",
              "    </tr>\n",
              "    <tr>\n",
              "      <th>Reason for absence</th>\n",
              "      <td>740.0</td>\n",
              "      <td>19.216216</td>\n",
              "      <td>8.433406</td>\n",
              "      <td>0.000</td>\n",
              "      <td>13.000</td>\n",
              "      <td>23.000</td>\n",
              "      <td>26.000</td>\n",
              "      <td>28.000</td>\n",
              "    </tr>\n",
              "    <tr>\n",
              "      <th>Month of absence</th>\n",
              "      <td>740.0</td>\n",
              "      <td>6.324324</td>\n",
              "      <td>3.436287</td>\n",
              "      <td>0.000</td>\n",
              "      <td>3.000</td>\n",
              "      <td>6.000</td>\n",
              "      <td>9.000</td>\n",
              "      <td>12.000</td>\n",
              "    </tr>\n",
              "    <tr>\n",
              "      <th>Day of the week</th>\n",
              "      <td>740.0</td>\n",
              "      <td>3.914865</td>\n",
              "      <td>1.421675</td>\n",
              "      <td>2.000</td>\n",
              "      <td>3.000</td>\n",
              "      <td>4.000</td>\n",
              "      <td>5.000</td>\n",
              "      <td>6.000</td>\n",
              "    </tr>\n",
              "    <tr>\n",
              "      <th>Seasons</th>\n",
              "      <td>740.0</td>\n",
              "      <td>2.544595</td>\n",
              "      <td>1.111831</td>\n",
              "      <td>1.000</td>\n",
              "      <td>2.000</td>\n",
              "      <td>3.000</td>\n",
              "      <td>4.000</td>\n",
              "      <td>4.000</td>\n",
              "    </tr>\n",
              "    <tr>\n",
              "      <th>Transportation expense</th>\n",
              "      <td>740.0</td>\n",
              "      <td>221.329730</td>\n",
              "      <td>66.952223</td>\n",
              "      <td>118.000</td>\n",
              "      <td>179.000</td>\n",
              "      <td>225.000</td>\n",
              "      <td>260.000</td>\n",
              "      <td>388.000</td>\n",
              "    </tr>\n",
              "    <tr>\n",
              "      <th>Distance from Residence to Work</th>\n",
              "      <td>740.0</td>\n",
              "      <td>29.631081</td>\n",
              "      <td>14.836788</td>\n",
              "      <td>5.000</td>\n",
              "      <td>16.000</td>\n",
              "      <td>26.000</td>\n",
              "      <td>50.000</td>\n",
              "      <td>52.000</td>\n",
              "    </tr>\n",
              "    <tr>\n",
              "      <th>Service time</th>\n",
              "      <td>740.0</td>\n",
              "      <td>12.554054</td>\n",
              "      <td>4.384873</td>\n",
              "      <td>1.000</td>\n",
              "      <td>9.000</td>\n",
              "      <td>13.000</td>\n",
              "      <td>16.000</td>\n",
              "      <td>29.000</td>\n",
              "    </tr>\n",
              "    <tr>\n",
              "      <th>Age</th>\n",
              "      <td>740.0</td>\n",
              "      <td>36.450000</td>\n",
              "      <td>6.478772</td>\n",
              "      <td>27.000</td>\n",
              "      <td>31.000</td>\n",
              "      <td>37.000</td>\n",
              "      <td>40.000</td>\n",
              "      <td>58.000</td>\n",
              "    </tr>\n",
              "    <tr>\n",
              "      <th>Work load Average/day</th>\n",
              "      <td>740.0</td>\n",
              "      <td>271.490235</td>\n",
              "      <td>39.058116</td>\n",
              "      <td>205.917</td>\n",
              "      <td>244.387</td>\n",
              "      <td>264.249</td>\n",
              "      <td>294.217</td>\n",
              "      <td>378.884</td>\n",
              "    </tr>\n",
              "    <tr>\n",
              "      <th>Hit target</th>\n",
              "      <td>740.0</td>\n",
              "      <td>94.587838</td>\n",
              "      <td>3.779313</td>\n",
              "      <td>81.000</td>\n",
              "      <td>93.000</td>\n",
              "      <td>95.000</td>\n",
              "      <td>97.000</td>\n",
              "      <td>100.000</td>\n",
              "    </tr>\n",
              "    <tr>\n",
              "      <th>Disciplinary failure</th>\n",
              "      <td>740.0</td>\n",
              "      <td>0.054054</td>\n",
              "      <td>0.226277</td>\n",
              "      <td>0.000</td>\n",
              "      <td>0.000</td>\n",
              "      <td>0.000</td>\n",
              "      <td>0.000</td>\n",
              "      <td>1.000</td>\n",
              "    </tr>\n",
              "    <tr>\n",
              "      <th>Education</th>\n",
              "      <td>740.0</td>\n",
              "      <td>1.291892</td>\n",
              "      <td>0.673238</td>\n",
              "      <td>1.000</td>\n",
              "      <td>1.000</td>\n",
              "      <td>1.000</td>\n",
              "      <td>1.000</td>\n",
              "      <td>4.000</td>\n",
              "    </tr>\n",
              "    <tr>\n",
              "      <th>Son</th>\n",
              "      <td>740.0</td>\n",
              "      <td>1.018919</td>\n",
              "      <td>1.098489</td>\n",
              "      <td>0.000</td>\n",
              "      <td>0.000</td>\n",
              "      <td>1.000</td>\n",
              "      <td>2.000</td>\n",
              "      <td>4.000</td>\n",
              "    </tr>\n",
              "    <tr>\n",
              "      <th>Social drinker</th>\n",
              "      <td>740.0</td>\n",
              "      <td>0.567568</td>\n",
              "      <td>0.495749</td>\n",
              "      <td>0.000</td>\n",
              "      <td>0.000</td>\n",
              "      <td>1.000</td>\n",
              "      <td>1.000</td>\n",
              "      <td>1.000</td>\n",
              "    </tr>\n",
              "    <tr>\n",
              "      <th>Social smoker</th>\n",
              "      <td>740.0</td>\n",
              "      <td>0.072973</td>\n",
              "      <td>0.260268</td>\n",
              "      <td>0.000</td>\n",
              "      <td>0.000</td>\n",
              "      <td>0.000</td>\n",
              "      <td>0.000</td>\n",
              "      <td>1.000</td>\n",
              "    </tr>\n",
              "    <tr>\n",
              "      <th>Pet</th>\n",
              "      <td>740.0</td>\n",
              "      <td>0.745946</td>\n",
              "      <td>1.318258</td>\n",
              "      <td>0.000</td>\n",
              "      <td>0.000</td>\n",
              "      <td>0.000</td>\n",
              "      <td>1.000</td>\n",
              "      <td>8.000</td>\n",
              "    </tr>\n",
              "    <tr>\n",
              "      <th>Weight</th>\n",
              "      <td>740.0</td>\n",
              "      <td>79.035135</td>\n",
              "      <td>12.883211</td>\n",
              "      <td>56.000</td>\n",
              "      <td>69.000</td>\n",
              "      <td>83.000</td>\n",
              "      <td>89.000</td>\n",
              "      <td>108.000</td>\n",
              "    </tr>\n",
              "    <tr>\n",
              "      <th>Height</th>\n",
              "      <td>740.0</td>\n",
              "      <td>172.114865</td>\n",
              "      <td>6.034995</td>\n",
              "      <td>163.000</td>\n",
              "      <td>169.000</td>\n",
              "      <td>170.000</td>\n",
              "      <td>172.000</td>\n",
              "      <td>196.000</td>\n",
              "    </tr>\n",
              "    <tr>\n",
              "      <th>Body mass index</th>\n",
              "      <td>740.0</td>\n",
              "      <td>26.677027</td>\n",
              "      <td>4.285452</td>\n",
              "      <td>19.000</td>\n",
              "      <td>24.000</td>\n",
              "      <td>25.000</td>\n",
              "      <td>31.000</td>\n",
              "      <td>38.000</td>\n",
              "    </tr>\n",
              "    <tr>\n",
              "      <th>Absenteeism time in hours</th>\n",
              "      <td>740.0</td>\n",
              "      <td>6.924324</td>\n",
              "      <td>13.330998</td>\n",
              "      <td>0.000</td>\n",
              "      <td>2.000</td>\n",
              "      <td>3.000</td>\n",
              "      <td>8.000</td>\n",
              "      <td>120.000</td>\n",
              "    </tr>\n",
              "  </tbody>\n",
              "</table>\n",
              "</div>"
            ],
            "text/plain": [
              "                                 count        mean  ...      75%      max\n",
              "ID                               740.0   18.017568  ...   28.000   36.000\n",
              "Reason for absence               740.0   19.216216  ...   26.000   28.000\n",
              "Month of absence                 740.0    6.324324  ...    9.000   12.000\n",
              "Day of the week                  740.0    3.914865  ...    5.000    6.000\n",
              "Seasons                          740.0    2.544595  ...    4.000    4.000\n",
              "Transportation expense           740.0  221.329730  ...  260.000  388.000\n",
              "Distance from Residence to Work  740.0   29.631081  ...   50.000   52.000\n",
              "Service time                     740.0   12.554054  ...   16.000   29.000\n",
              "Age                              740.0   36.450000  ...   40.000   58.000\n",
              "Work load Average/day            740.0  271.490235  ...  294.217  378.884\n",
              "Hit target                       740.0   94.587838  ...   97.000  100.000\n",
              "Disciplinary failure             740.0    0.054054  ...    0.000    1.000\n",
              "Education                        740.0    1.291892  ...    1.000    4.000\n",
              "Son                              740.0    1.018919  ...    2.000    4.000\n",
              "Social drinker                   740.0    0.567568  ...    1.000    1.000\n",
              "Social smoker                    740.0    0.072973  ...    0.000    1.000\n",
              "Pet                              740.0    0.745946  ...    1.000    8.000\n",
              "Weight                           740.0   79.035135  ...   89.000  108.000\n",
              "Height                           740.0  172.114865  ...  172.000  196.000\n",
              "Body mass index                  740.0   26.677027  ...   31.000   38.000\n",
              "Absenteeism time in hours        740.0    6.924324  ...    8.000  120.000\n",
              "\n",
              "[21 rows x 8 columns]"
            ]
          },
          "metadata": {
            "tags": []
          },
          "execution_count": 4
        }
      ]
    },
    {
      "cell_type": "code",
      "metadata": {
        "id": "KM11JNkzzWc0",
        "colab_type": "code",
        "colab": {}
      },
      "source": [
        "# define encoding dictionaries\n",
        "month_encoding = {1: \"January\", 2: \"February\", 3: \"March\", 4: \"April\", \n",
        "    5: \"May\", 6: \"June\", 7: \"July\", 8: \"August\", \n",
        "    9: \"September\", 10: \"October\", 11: \"November\", 12: \"December\", 0: \"Unknown\"}\n",
        "dow_encoding = {2: \"Monday\", 3: \"Tuesday\", 4: \"Wednesday\", 5: \"Thursday\", 6: \"Friday\"}\n",
        "season_encoding = {1: \"Spring\", 2: \"Summer\", 3: \"Fall\", 4: \"Winter\"}\n",
        "education_encoding = {1: \"high_school\", 2: \"graduate\", 3: \"postgraduate\", 4: \"master_phd\"}\n",
        "yes_no_encoding = {0: \"No\", 1: \"Yes\"}\n",
        "\n",
        "# backtransform numerical variables to categorical\n",
        "preprocessed_data = data.copy()\n",
        "preprocessed_data[\"Month of absence\"] = preprocessed_data[\"Month of absence\"]\\\n",
        "    .apply(lambda x: month_encoding[x]) \n",
        "preprocessed_data[\"Day of the week\"] = preprocessed_data[\"Day of the week\"]\\\n",
        "    .apply(lambda x: dow_encoding[x]) \n",
        "preprocessed_data[\"Seasons\"] = preprocessed_data[\"Seasons\"]\\\n",
        "    .apply(lambda x: season_encoding[x]) \n",
        "preprocessed_data[\"Education\"] = preprocessed_data[\"Education\"]\\\n",
        "    .apply(lambda x: education_encoding[x]) \n",
        "preprocessed_data[\"Disciplinary failure\"] = preprocessed_data[\"Disciplinary failure\"]\\\n",
        "    .apply(lambda x: yes_no_encoding[x]) \n",
        "preprocessed_data[\"Social drinker\"] = preprocessed_data[\"Social drinker\"]\\\n",
        "    .apply(lambda x: yes_no_encoding[x]) \n",
        "preprocessed_data[\"Social smoker\"] = preprocessed_data[\"Social smoker\"]\\\n",
        "    .apply(lambda x: yes_no_encoding[x]) "
      ],
      "execution_count": 0,
      "outputs": []
    },
    {
      "cell_type": "code",
      "metadata": {
        "id": "E7G0sSqtzWc3",
        "colab_type": "code",
        "outputId": "99286e6c-6570-4fb1-a9d4-45f747b27dd2",
        "colab": {
          "base_uri": "https://localhost:8080/",
          "height": 700
        }
      },
      "source": [
        "# transform columns\n",
        "preprocessed_data.head().T"
      ],
      "execution_count": 0,
      "outputs": [
        {
          "output_type": "execute_result",
          "data": {
            "text/html": [
              "<div>\n",
              "<style scoped>\n",
              "    .dataframe tbody tr th:only-of-type {\n",
              "        vertical-align: middle;\n",
              "    }\n",
              "\n",
              "    .dataframe tbody tr th {\n",
              "        vertical-align: top;\n",
              "    }\n",
              "\n",
              "    .dataframe thead th {\n",
              "        text-align: right;\n",
              "    }\n",
              "</style>\n",
              "<table border=\"1\" class=\"dataframe\">\n",
              "  <thead>\n",
              "    <tr style=\"text-align: right;\">\n",
              "      <th></th>\n",
              "      <th>0</th>\n",
              "      <th>1</th>\n",
              "      <th>2</th>\n",
              "      <th>3</th>\n",
              "      <th>4</th>\n",
              "    </tr>\n",
              "  </thead>\n",
              "  <tbody>\n",
              "    <tr>\n",
              "      <th>ID</th>\n",
              "      <td>11</td>\n",
              "      <td>36</td>\n",
              "      <td>3</td>\n",
              "      <td>7</td>\n",
              "      <td>11</td>\n",
              "    </tr>\n",
              "    <tr>\n",
              "      <th>Reason for absence</th>\n",
              "      <td>26</td>\n",
              "      <td>0</td>\n",
              "      <td>23</td>\n",
              "      <td>7</td>\n",
              "      <td>23</td>\n",
              "    </tr>\n",
              "    <tr>\n",
              "      <th>Month of absence</th>\n",
              "      <td>July</td>\n",
              "      <td>July</td>\n",
              "      <td>July</td>\n",
              "      <td>July</td>\n",
              "      <td>July</td>\n",
              "    </tr>\n",
              "    <tr>\n",
              "      <th>Day of the week</th>\n",
              "      <td>Tuesday</td>\n",
              "      <td>Tuesday</td>\n",
              "      <td>Wednesday</td>\n",
              "      <td>Thursday</td>\n",
              "      <td>Thursday</td>\n",
              "    </tr>\n",
              "    <tr>\n",
              "      <th>Seasons</th>\n",
              "      <td>Spring</td>\n",
              "      <td>Spring</td>\n",
              "      <td>Spring</td>\n",
              "      <td>Spring</td>\n",
              "      <td>Spring</td>\n",
              "    </tr>\n",
              "    <tr>\n",
              "      <th>Transportation expense</th>\n",
              "      <td>289</td>\n",
              "      <td>118</td>\n",
              "      <td>179</td>\n",
              "      <td>279</td>\n",
              "      <td>289</td>\n",
              "    </tr>\n",
              "    <tr>\n",
              "      <th>Distance from Residence to Work</th>\n",
              "      <td>36</td>\n",
              "      <td>13</td>\n",
              "      <td>51</td>\n",
              "      <td>5</td>\n",
              "      <td>36</td>\n",
              "    </tr>\n",
              "    <tr>\n",
              "      <th>Service time</th>\n",
              "      <td>13</td>\n",
              "      <td>18</td>\n",
              "      <td>18</td>\n",
              "      <td>14</td>\n",
              "      <td>13</td>\n",
              "    </tr>\n",
              "    <tr>\n",
              "      <th>Age</th>\n",
              "      <td>33</td>\n",
              "      <td>50</td>\n",
              "      <td>38</td>\n",
              "      <td>39</td>\n",
              "      <td>33</td>\n",
              "    </tr>\n",
              "    <tr>\n",
              "      <th>Work load Average/day</th>\n",
              "      <td>239.554</td>\n",
              "      <td>239.554</td>\n",
              "      <td>239.554</td>\n",
              "      <td>239.554</td>\n",
              "      <td>239.554</td>\n",
              "    </tr>\n",
              "    <tr>\n",
              "      <th>Hit target</th>\n",
              "      <td>97</td>\n",
              "      <td>97</td>\n",
              "      <td>97</td>\n",
              "      <td>97</td>\n",
              "      <td>97</td>\n",
              "    </tr>\n",
              "    <tr>\n",
              "      <th>Disciplinary failure</th>\n",
              "      <td>No</td>\n",
              "      <td>Yes</td>\n",
              "      <td>No</td>\n",
              "      <td>No</td>\n",
              "      <td>No</td>\n",
              "    </tr>\n",
              "    <tr>\n",
              "      <th>Education</th>\n",
              "      <td>high_school</td>\n",
              "      <td>high_school</td>\n",
              "      <td>high_school</td>\n",
              "      <td>high_school</td>\n",
              "      <td>high_school</td>\n",
              "    </tr>\n",
              "    <tr>\n",
              "      <th>Son</th>\n",
              "      <td>2</td>\n",
              "      <td>1</td>\n",
              "      <td>0</td>\n",
              "      <td>2</td>\n",
              "      <td>2</td>\n",
              "    </tr>\n",
              "    <tr>\n",
              "      <th>Social drinker</th>\n",
              "      <td>Yes</td>\n",
              "      <td>Yes</td>\n",
              "      <td>Yes</td>\n",
              "      <td>Yes</td>\n",
              "      <td>Yes</td>\n",
              "    </tr>\n",
              "    <tr>\n",
              "      <th>Social smoker</th>\n",
              "      <td>No</td>\n",
              "      <td>No</td>\n",
              "      <td>No</td>\n",
              "      <td>Yes</td>\n",
              "      <td>No</td>\n",
              "    </tr>\n",
              "    <tr>\n",
              "      <th>Pet</th>\n",
              "      <td>1</td>\n",
              "      <td>0</td>\n",
              "      <td>0</td>\n",
              "      <td>0</td>\n",
              "      <td>1</td>\n",
              "    </tr>\n",
              "    <tr>\n",
              "      <th>Weight</th>\n",
              "      <td>90</td>\n",
              "      <td>98</td>\n",
              "      <td>89</td>\n",
              "      <td>68</td>\n",
              "      <td>90</td>\n",
              "    </tr>\n",
              "    <tr>\n",
              "      <th>Height</th>\n",
              "      <td>172</td>\n",
              "      <td>178</td>\n",
              "      <td>170</td>\n",
              "      <td>168</td>\n",
              "      <td>172</td>\n",
              "    </tr>\n",
              "    <tr>\n",
              "      <th>Body mass index</th>\n",
              "      <td>30</td>\n",
              "      <td>31</td>\n",
              "      <td>31</td>\n",
              "      <td>24</td>\n",
              "      <td>30</td>\n",
              "    </tr>\n",
              "    <tr>\n",
              "      <th>Absenteeism time in hours</th>\n",
              "      <td>4</td>\n",
              "      <td>0</td>\n",
              "      <td>2</td>\n",
              "      <td>4</td>\n",
              "      <td>2</td>\n",
              "    </tr>\n",
              "  </tbody>\n",
              "</table>\n",
              "</div>"
            ],
            "text/plain": [
              "                                           0  ...            4\n",
              "ID                                        11  ...           11\n",
              "Reason for absence                        26  ...           23\n",
              "Month of absence                        July  ...         July\n",
              "Day of the week                      Tuesday  ...     Thursday\n",
              "Seasons                               Spring  ...       Spring\n",
              "Transportation expense                   289  ...          289\n",
              "Distance from Residence to Work           36  ...           36\n",
              "Service time                              13  ...           13\n",
              "Age                                       33  ...           33\n",
              "Work load Average/day                239.554  ...      239.554\n",
              "Hit target                                97  ...           97\n",
              "Disciplinary failure                      No  ...           No\n",
              "Education                        high_school  ...  high_school\n",
              "Son                                        2  ...            2\n",
              "Social drinker                           Yes  ...          Yes\n",
              "Social smoker                             No  ...           No\n",
              "Pet                                        1  ...            1\n",
              "Weight                                    90  ...           90\n",
              "Height                                   172  ...          172\n",
              "Body mass index                           30  ...           30\n",
              "Absenteeism time in hours                  4  ...            2\n",
              "\n",
              "[21 rows x 5 columns]"
            ]
          },
          "metadata": {
            "tags": []
          },
          "execution_count": 6
        }
      ]
    },
    {
      "cell_type": "code",
      "metadata": {
        "id": "bcSvhsJNzWc8",
        "colab_type": "code",
        "outputId": "936a58df-3570-4ba1-8ca7-6fda96b34006",
        "colab": {
          "base_uri": "https://localhost:8080/",
          "height": 499
        }
      },
      "source": [
        "# define function, which checks if the provided integer value \n",
        "# is contained in the ICD or not\n",
        "def in_icd(val):\n",
        "    return \"Yes\" if val >= 1 and val <= 21 else \"No\"\n",
        "\n",
        "# add Disease column\n",
        "preprocessed_data[\"Disease\"] = preprocessed_data[\"Reason for absence\"]\\\n",
        "    .apply(in_icd)\n",
        "\n",
        "# plot value counts\n",
        "plt.figure(figsize=(10, 8))\n",
        "sns.countplot(data=preprocessed_data, x='Disease')\n",
        "plt.savefig('figs/disease_plot.png', format='png', dpi=300)"
      ],
      "execution_count": 0,
      "outputs": [
        {
          "output_type": "display_data",
          "data": {
            "image/png": "[encoded data removed]",
            "text/plain": [
              "<Figure size 720x576 with 1 Axes>"
            ]
          },
          "metadata": {
            "tags": []
          }
        }
      ]
    },
    {
      "cell_type": "markdown",
      "metadata": {
        "colab_type": "text",
        "id": "JgJuyfIquqyV"
      },
      "source": [
        "# Initial analysis on the reason for absence"
      ]
    },
    {
      "cell_type": "code",
      "metadata": {
        "colab_type": "code",
        "outputId": "6e2062ae-4c51-45e3-a423-6b63699b47ab",
        "id": "mVe_vMm7upJm",
        "colab": {
          "base_uri": "https://localhost:8080/",
          "height": 334
        }
      },
      "source": [
        "# get the number of entries for each reason for absence\n",
        "plt.figure(figsize=(10, 5))\n",
        "ax = sns.countplot(data=preprocessed_data, x=\"Reason for absence\")\n",
        "ax.set_ylabel(\"Number of entries per reason of absence\")\n",
        "plt.savefig('figs/absence_reasons_distribution.png', format='png', dpi=300)"
      ],
      "execution_count": 0,
      "outputs": [
        {
          "output_type": "display_data",
          "data": {
            "image/png": "[encoded data removed]",
            "text/plain": [
              "<Figure size 720x360 with 1 Axes>"
            ]
          },
          "metadata": {
            "tags": []
          }
        }
      ]
    },
    {
      "cell_type": "markdown",
      "metadata": {
        "colab_type": "text",
        "id": "g17FCIDmuofe"
      },
      "source": [
        "#### Social drinkers and smokers analysis"
      ]
    },
    {
      "cell_type": "code",
      "metadata": {
        "colab_type": "code",
        "outputId": "3e5f0ff5-41f6-4f47-9a7e-1d1dc5b5c5c5",
        "id": "pYBpeU4GumOF",
        "colab": {
          "base_uri": "https://localhost:8080/",
          "height": 759
        }
      },
      "source": [
        "# plot reasons for absence against being a social drinker/smoker\n",
        "plt.figure(figsize=(8, 6))\n",
        "sns.countplot(data=preprocessed_data, x=\"Reason for absence\", \n",
        "              hue=\"Social drinker\", hue_order=[\"Yes\", \"No\"])\n",
        "plt.savefig('figs/absence_reasons_drinkers.png', format='png', dpi=300)\n",
        "\n",
        "plt.figure(figsize=(8, 6))\n",
        "sns.countplot(data=preprocessed_data, x=\"Reason for absence\", \n",
        "              hue=\"Social smoker\", hue_order=[\"Yes\", \"No\"])\n",
        "plt.savefig('figs/absence_reasons_smokers.png', format='png', dpi=300)"
      ],
      "execution_count": 0,
      "outputs": [
        {
          "output_type": "display_data",
          "data": {
            "image/png": "[encoded data removed]",
            "text/plain": [
              "<Figure size 576x432 with 1 Axes>"
            ]
          },
          "metadata": {
            "tags": []
          }
        },
        {
          "output_type": "display_data",
          "data": {
            "image/png": "[encoded data removed]",
            "text/plain": [
              "<Figure size 576x432 with 1 Axes>"
            ]
          },
          "metadata": {
            "tags": []
          }
        }
      ]
    },
    {
      "cell_type": "code",
      "metadata": {
        "colab_type": "code",
        "outputId": "9405b4fb-6522-45fe-dcb5-d93dceef377f",
        "id": "32EkWWuYul1s",
        "colab": {
          "base_uri": "https://localhost:8080/",
          "height": 119
        }
      },
      "source": [
        "print(preprocessed_data[\"Social drinker\"].value_counts(normalize=True))\n",
        "print(preprocessed_data[\"Social smoker\"].value_counts(normalize=True))"
      ],
      "execution_count": 0,
      "outputs": [
        {
          "output_type": "stream",
          "text": [
            "Yes    0.567568\n",
            "No     0.432432\n",
            "Name: Social drinker, dtype: float64\n",
            "No     0.927027\n",
            "Yes    0.072973\n",
            "Name: Social smoker, dtype: float64\n"
          ],
          "name": "stdout"
        }
      ]
    },
    {
      "cell_type": "code",
      "metadata": {
        "colab_type": "code",
        "outputId": "96a8b827-1dec-47e1-e8ae-f376efd7348e",
        "id": "8s3cb__CulDS",
        "colab": {
          "base_uri": "https://localhost:8080/",
          "height": 34
        }
      },
      "source": [
        "# computation of conditional probability\n",
        "sample_space = set([\"BB\", \"BG\", \"GB\", \"GG\"])\n",
        "event_a = set([\"BB\"])\n",
        "event_b = set([\"BB\", \"BG\", \"GB\"])\n",
        "\n",
        "cond_prob = (0.25*len(event_a.intersection(event_b))) / (0.25*len(event_b))\n",
        "print(round(cond_prob, 4))"
      ],
      "execution_count": 0,
      "outputs": [
        {
          "output_type": "stream",
          "text": [
            "0.3333\n"
          ],
          "name": "stdout"
        }
      ]
    },
    {
      "cell_type": "markdown",
      "metadata": {
        "colab_type": "text",
        "id": "B3HLb_N8tj9U"
      },
      "source": [
        "**Exercise 2.02: Identifying Disease Reasons with Higher Probability among Drinkers and Smokers**"
      ]
    },
    {
      "cell_type": "code",
      "metadata": {
        "colab_type": "code",
        "outputId": "6b76d43f-ee02-428a-fef0-c4fc8287a410",
        "id": "RplQu9eitZVM",
        "colab": {
          "base_uri": "https://localhost:8080/",
          "height": 411
        }
      },
      "source": [
        "# compute probabilities of being a drinker and smoker\n",
        "drinker_prob = preprocessed_data[\"Social drinker\"]\\\n",
        "    .value_counts(normalize=True)[\"Yes\"]\n",
        "smoker_prob = preprocessed_data[\"Social smoker\"]\\\n",
        "    .value_counts(normalize=True)[\"Yes\"]\n",
        "print(f\"P(social drinker) = {drinker_prob:.3f} | P(social smoker) = {smoker_prob:.3f}\")\n",
        "\n",
        "# create mask for social drinkers/smokers\n",
        "drinker_mask = preprocessed_data[\"Social drinker\"] == \"Yes\"\n",
        "smoker_mask = preprocessed_data[\"Social smoker\"] == \"Yes\"\n",
        "\n",
        "# compute probabilities of absence reasons and being a social drinker/smoker\n",
        "total_entries = preprocessed_data.shape[0]\n",
        "absence_drinker_prob = preprocessed_data[\"Reason for absence\"]\\\n",
        "    [drinker_mask].value_counts()/total_entries\n",
        "absence_smoker_prob = preprocessed_data[\"Reason for absence\"]\\\n",
        "    [smoker_mask].value_counts()/total_entries\n",
        "\n",
        "# compute conditional probabilities\n",
        "cond_prob = pd.DataFrame(index=range(0,29))\n",
        "cond_prob[\"P(Absence | social drinker)\"] = absence_drinker_prob/drinker_prob\n",
        "cond_prob[\"P(Absence | social smoker)\"] = absence_smoker_prob/smoker_prob\n",
        "\n",
        "# plot probabilities\n",
        "plt.figure()\n",
        "ax = cond_prob.plot.bar(figsize=(10,6))\n",
        "ax.set_ylabel(\"Conditional probability\")\n",
        "plt.savefig('figs/conditional_probabilities.png', format='png', dpi=300)"
      ],
      "execution_count": 0,
      "outputs": [
        {
          "output_type": "stream",
          "text": [
            "P(social drinker) = 0.568 | P(social smoker) = 0.073\n"
          ],
          "name": "stdout"
        },
        {
          "output_type": "display_data",
          "data": {
            "text/plain": [
              "<Figure size 432x288 with 0 Axes>"
            ]
          },
          "metadata": {
            "tags": []
          }
        },
        {
          "output_type": "display_data",
          "data": {
            "image/png": "[encoded data removed]",
            "text/plain": [
              "<Figure size 720x432 with 1 Axes>"
            ]
          },
          "metadata": {
            "tags": []
          }
        }
      ]
    }
  ]
}
