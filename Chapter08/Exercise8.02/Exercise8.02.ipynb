{
 "cells": [
  {
   "cell_type": "code",
   "execution_count": 1,
   "metadata": {
    "colab": {},
    "colab_type": "code",
    "collapsed": true,
    "id": "uOtwCpbb226Z"
   },
   "outputs": [],
   "source": [
    "import pandas as pd\n",
    "import numpy as np\n",
    "import seaborn as sns\n",
    "import matplotlib.pyplot as plt\n"
   ]
  },
  {
   "cell_type": "code",
   "execution_count": 2,
   "metadata": {
    "colab": {
     "base_uri": "https://localhost:8080/",
     "height": 204
    },
    "colab_type": "code",
    "collapsed": false,
    "id": "o6JF3Q2j28il",
    "outputId": "22803595-f674-4bef-faa6-dec298c8f89a"
   },
   "outputs": [
    {
     "data": {
      "text/html": [
       "<div>\n",
       "<table border=\"1\" class=\"dataframe\">\n",
       "  <thead>\n",
       "    <tr style=\"text-align: right;\">\n",
       "      <th></th>\n",
       "      <th>Invoice</th>\n",
       "      <th>StockCode</th>\n",
       "      <th>Description</th>\n",
       "      <th>Quantity</th>\n",
       "      <th>InvoiceDate</th>\n",
       "      <th>Price</th>\n",
       "      <th>Customer ID</th>\n",
       "      <th>Country</th>\n",
       "    </tr>\n",
       "  </thead>\n",
       "  <tbody>\n",
       "    <tr>\n",
       "      <th>0</th>\n",
       "      <td>489434</td>\n",
       "      <td>85048</td>\n",
       "      <td>15CM CHRISTMAS GLASS BALL 20 LIGHTS</td>\n",
       "      <td>12</td>\n",
       "      <td>01/12/2009 07:45</td>\n",
       "      <td>6.95</td>\n",
       "      <td>13085.0</td>\n",
       "      <td>United Kingdom</td>\n",
       "    </tr>\n",
       "    <tr>\n",
       "      <th>1</th>\n",
       "      <td>489434</td>\n",
       "      <td>79323P</td>\n",
       "      <td>PINK CHERRY LIGHTS</td>\n",
       "      <td>12</td>\n",
       "      <td>01/12/2009 07:45</td>\n",
       "      <td>6.75</td>\n",
       "      <td>13085.0</td>\n",
       "      <td>United Kingdom</td>\n",
       "    </tr>\n",
       "    <tr>\n",
       "      <th>2</th>\n",
       "      <td>489434</td>\n",
       "      <td>79323W</td>\n",
       "      <td>WHITE CHERRY LIGHTS</td>\n",
       "      <td>12</td>\n",
       "      <td>01/12/2009 07:45</td>\n",
       "      <td>6.75</td>\n",
       "      <td>13085.0</td>\n",
       "      <td>United Kingdom</td>\n",
       "    </tr>\n",
       "    <tr>\n",
       "      <th>3</th>\n",
       "      <td>489434</td>\n",
       "      <td>22041</td>\n",
       "      <td>RECORD FRAME 7\" SINGLE SIZE</td>\n",
       "      <td>48</td>\n",
       "      <td>01/12/2009 07:45</td>\n",
       "      <td>2.10</td>\n",
       "      <td>13085.0</td>\n",
       "      <td>United Kingdom</td>\n",
       "    </tr>\n",
       "    <tr>\n",
       "      <th>4</th>\n",
       "      <td>489434</td>\n",
       "      <td>21232</td>\n",
       "      <td>STRAWBERRY CERAMIC TRINKET BOX</td>\n",
       "      <td>24</td>\n",
       "      <td>01/12/2009 07:45</td>\n",
       "      <td>1.25</td>\n",
       "      <td>13085.0</td>\n",
       "      <td>United Kingdom</td>\n",
       "    </tr>\n",
       "  </tbody>\n",
       "</table>\n",
       "</div>"
      ],
      "text/plain": [
       "  Invoice StockCode                          Description  Quantity  \\\n",
       "0  489434     85048  15CM CHRISTMAS GLASS BALL 20 LIGHTS        12   \n",
       "1  489434    79323P                   PINK CHERRY LIGHTS        12   \n",
       "2  489434    79323W                  WHITE CHERRY LIGHTS        12   \n",
       "3  489434     22041         RECORD FRAME 7\" SINGLE SIZE         48   \n",
       "4  489434     21232       STRAWBERRY CERAMIC TRINKET BOX        24   \n",
       "\n",
       "        InvoiceDate  Price  Customer ID         Country  \n",
       "0  01/12/2009 07:45   6.95      13085.0  United Kingdom  \n",
       "1  01/12/2009 07:45   6.75      13085.0  United Kingdom  \n",
       "2  01/12/2009 07:45   6.75      13085.0  United Kingdom  \n",
       "3  01/12/2009 07:45   2.10      13085.0  United Kingdom  \n",
       "4  01/12/2009 07:45   1.25      13085.0  United Kingdom  "
      ]
     },
     "execution_count": 2,
     "metadata": {},
     "output_type": "execute_result"
    }
   ],
   "source": [
    "retail = pd.read_csv('https://raw.githubusercontent.com/PacktWorkshops/The-Data-Analysis-Workshop/master/Chapter08/Datasets/online_retail_II.csv')\n",
    "retail.head()\n"
   ]
  },
  {
   "cell_type": "code",
   "execution_count": 3,
   "metadata": {
    "colab": {
     "base_uri": "https://localhost:8080/",
     "height": 204
    },
    "colab_type": "code",
    "collapsed": false,
    "id": "wd6smOJG3DkT",
    "outputId": "9447caca-ea14-454c-bb90-60212f4c66eb"
   },
   "outputs": [
    {
     "data": {
      "text/html": [
       "<div>\n",
       "<table border=\"1\" class=\"dataframe\">\n",
       "  <thead>\n",
       "    <tr style=\"text-align: right;\">\n",
       "      <th></th>\n",
       "      <th>invoice</th>\n",
       "      <th>stock_code</th>\n",
       "      <th>desc</th>\n",
       "      <th>quantity</th>\n",
       "      <th>date</th>\n",
       "      <th>unit_price</th>\n",
       "      <th>cust_id</th>\n",
       "      <th>country</th>\n",
       "    </tr>\n",
       "  </thead>\n",
       "  <tbody>\n",
       "    <tr>\n",
       "      <th>0</th>\n",
       "      <td>489434</td>\n",
       "      <td>85048</td>\n",
       "      <td>15CM CHRISTMAS GLASS BALL 20 LIGHTS</td>\n",
       "      <td>12</td>\n",
       "      <td>01/12/2009 07:45</td>\n",
       "      <td>6.95</td>\n",
       "      <td>13085.0</td>\n",
       "      <td>United Kingdom</td>\n",
       "    </tr>\n",
       "    <tr>\n",
       "      <th>1</th>\n",
       "      <td>489434</td>\n",
       "      <td>79323P</td>\n",
       "      <td>PINK CHERRY LIGHTS</td>\n",
       "      <td>12</td>\n",
       "      <td>01/12/2009 07:45</td>\n",
       "      <td>6.75</td>\n",
       "      <td>13085.0</td>\n",
       "      <td>United Kingdom</td>\n",
       "    </tr>\n",
       "    <tr>\n",
       "      <th>2</th>\n",
       "      <td>489434</td>\n",
       "      <td>79323W</td>\n",
       "      <td>WHITE CHERRY LIGHTS</td>\n",
       "      <td>12</td>\n",
       "      <td>01/12/2009 07:45</td>\n",
       "      <td>6.75</td>\n",
       "      <td>13085.0</td>\n",
       "      <td>United Kingdom</td>\n",
       "    </tr>\n",
       "    <tr>\n",
       "      <th>3</th>\n",
       "      <td>489434</td>\n",
       "      <td>22041</td>\n",
       "      <td>RECORD FRAME 7\" SINGLE SIZE</td>\n",
       "      <td>48</td>\n",
       "      <td>01/12/2009 07:45</td>\n",
       "      <td>2.10</td>\n",
       "      <td>13085.0</td>\n",
       "      <td>United Kingdom</td>\n",
       "    </tr>\n",
       "    <tr>\n",
       "      <th>4</th>\n",
       "      <td>489434</td>\n",
       "      <td>21232</td>\n",
       "      <td>STRAWBERRY CERAMIC TRINKET BOX</td>\n",
       "      <td>24</td>\n",
       "      <td>01/12/2009 07:45</td>\n",
       "      <td>1.25</td>\n",
       "      <td>13085.0</td>\n",
       "      <td>United Kingdom</td>\n",
       "    </tr>\n",
       "  </tbody>\n",
       "</table>\n",
       "</div>"
      ],
      "text/plain": [
       "  invoice stock_code                                 desc  quantity  \\\n",
       "0  489434      85048  15CM CHRISTMAS GLASS BALL 20 LIGHTS        12   \n",
       "1  489434     79323P                   PINK CHERRY LIGHTS        12   \n",
       "2  489434     79323W                  WHITE CHERRY LIGHTS        12   \n",
       "3  489434      22041         RECORD FRAME 7\" SINGLE SIZE         48   \n",
       "4  489434      21232       STRAWBERRY CERAMIC TRINKET BOX        24   \n",
       "\n",
       "               date  unit_price  cust_id         country  \n",
       "0  01/12/2009 07:45        6.95  13085.0  United Kingdom  \n",
       "1  01/12/2009 07:45        6.75  13085.0  United Kingdom  \n",
       "2  01/12/2009 07:45        6.75  13085.0  United Kingdom  \n",
       "3  01/12/2009 07:45        2.10  13085.0  United Kingdom  \n",
       "4  01/12/2009 07:45        1.25  13085.0  United Kingdom  "
      ]
     },
     "execution_count": 3,
     "metadata": {},
     "output_type": "execute_result"
    }
   ],
   "source": [
    "\n",
    "retail.rename(index = str, columns = {\n",
    "    'Invoice' : 'invoice', \n",
    "    'StockCode' : 'stock_code', \n",
    "    'Quantity' : 'quantity', \n",
    "    'InvoiceDate' : 'date', \n",
    "    'Price' : 'unit_price', \n",
    "    'Country' : 'country', \n",
    "    'Description' : 'desc', \n",
    "    'Customer ID' : 'cust_id'\n",
    "}, inplace = True)\n",
    "\n",
    "retail.head()"
   ]
  },
  {
   "cell_type": "code",
   "execution_count": 4,
   "metadata": {
    "colab": {
     "base_uri": "https://localhost:8080/",
     "height": 238
    },
    "colab_type": "code",
    "collapsed": false,
    "id": "4Ty38CBI3Khb",
    "outputId": "0cf93b50-706f-4481-e036-52d7657c30bb"
   },
   "outputs": [
    {
     "name": "stdout",
     "output_type": "stream",
     "text": [
      "<class 'pandas.core.frame.DataFrame'>\n",
      "Index: 525461 entries, 0 to 525460\n",
      "Data columns (total 8 columns):\n",
      "invoice       525461 non-null object\n",
      "stock_code    525461 non-null object\n",
      "desc          522533 non-null object\n",
      "quantity      525461 non-null int64\n",
      "date          525461 non-null object\n",
      "unit_price    525461 non-null float64\n",
      "cust_id       417534 non-null float64\n",
      "country       525461 non-null object\n",
      "dtypes: float64(2), int64(1), object(5)\n",
      "memory usage: 36.1+ MB\n"
     ]
    }
   ],
   "source": [
    "retail.info()"
   ]
  },
  {
   "cell_type": "code",
   "execution_count": 5,
   "metadata": {
    "colab": {
     "base_uri": "https://localhost:8080/",
     "height": 170
    },
    "colab_type": "code",
    "collapsed": false,
    "id": "Ftdl0yR83OAS",
    "outputId": "8172560d-7fc2-4874-f890-3081ec4080b3"
   },
   "outputs": [
    {
     "data": {
      "text/plain": [
       "cust_id       107927\n",
       "desc            2928\n",
       "country            0\n",
       "unit_price         0\n",
       "date               0\n",
       "quantity           0\n",
       "stock_code         0\n",
       "invoice            0\n",
       "dtype: int64"
      ]
     },
     "execution_count": 5,
     "metadata": {},
     "output_type": "execute_result"
    }
   ],
   "source": [
    "retail.isnull().sum().sort_values(ascending = False)"
   ]
  },
  {
   "cell_type": "code",
   "execution_count": 6,
   "metadata": {
    "colab": {
     "base_uri": "https://localhost:8080/",
     "height": 297
    },
    "colab_type": "code",
    "collapsed": false,
    "id": "7mLoj6Kc3Qxc",
    "outputId": "9abd4f2f-ef1c-4063-edc2-0450cfe98521"
   },
   "outputs": [
    {
     "data": {
      "text/html": [
       "<div>\n",
       "<table border=\"1\" class=\"dataframe\">\n",
       "  <thead>\n",
       "    <tr style=\"text-align: right;\">\n",
       "      <th></th>\n",
       "      <th>quantity</th>\n",
       "      <th>unit_price</th>\n",
       "      <th>cust_id</th>\n",
       "    </tr>\n",
       "  </thead>\n",
       "  <tbody>\n",
       "    <tr>\n",
       "      <th>count</th>\n",
       "      <td>525461.000000</td>\n",
       "      <td>525461.000000</td>\n",
       "      <td>417534.000000</td>\n",
       "    </tr>\n",
       "    <tr>\n",
       "      <th>mean</th>\n",
       "      <td>10.337667</td>\n",
       "      <td>4.688834</td>\n",
       "      <td>15360.645478</td>\n",
       "    </tr>\n",
       "    <tr>\n",
       "      <th>std</th>\n",
       "      <td>107.424110</td>\n",
       "      <td>146.126914</td>\n",
       "      <td>1680.811316</td>\n",
       "    </tr>\n",
       "    <tr>\n",
       "      <th>min</th>\n",
       "      <td>-9600.000000</td>\n",
       "      <td>-53594.360000</td>\n",
       "      <td>12346.000000</td>\n",
       "    </tr>\n",
       "    <tr>\n",
       "      <th>25%</th>\n",
       "      <td>1.000000</td>\n",
       "      <td>1.250000</td>\n",
       "      <td>13983.000000</td>\n",
       "    </tr>\n",
       "    <tr>\n",
       "      <th>50%</th>\n",
       "      <td>3.000000</td>\n",
       "      <td>2.100000</td>\n",
       "      <td>15311.000000</td>\n",
       "    </tr>\n",
       "    <tr>\n",
       "      <th>75%</th>\n",
       "      <td>10.000000</td>\n",
       "      <td>4.210000</td>\n",
       "      <td>16799.000000</td>\n",
       "    </tr>\n",
       "    <tr>\n",
       "      <th>max</th>\n",
       "      <td>19152.000000</td>\n",
       "      <td>25111.090000</td>\n",
       "      <td>18287.000000</td>\n",
       "    </tr>\n",
       "  </tbody>\n",
       "</table>\n",
       "</div>"
      ],
      "text/plain": [
       "            quantity     unit_price        cust_id\n",
       "count  525461.000000  525461.000000  417534.000000\n",
       "mean       10.337667       4.688834   15360.645478\n",
       "std       107.424110     146.126914    1680.811316\n",
       "min     -9600.000000  -53594.360000   12346.000000\n",
       "25%         1.000000       1.250000   13983.000000\n",
       "50%         3.000000       2.100000   15311.000000\n",
       "75%        10.000000       4.210000   16799.000000\n",
       "max     19152.000000   25111.090000   18287.000000"
      ]
     },
     "execution_count": 6,
     "metadata": {},
     "output_type": "execute_result"
    }
   ],
   "source": [
    "retail.describe()"
   ]
  },
  {
   "cell_type": "code",
   "execution_count": 7,
   "metadata": {
    "colab": {
     "base_uri": "https://localhost:8080/",
     "height": 111
    },
    "colab_type": "code",
    "collapsed": false,
    "id": "_ebHJxaO3WPL",
    "outputId": "1361ab4f-6865-4059-f851-43eb414e3f65"
   },
   "outputs": [
    {
     "data": {
      "text/html": [
       "<div>\n",
       "<table border=\"1\" class=\"dataframe\">\n",
       "  <thead>\n",
       "    <tr style=\"text-align: right;\">\n",
       "      <th></th>\n",
       "      <th>invoice</th>\n",
       "      <th>stock_code</th>\n",
       "      <th>desc</th>\n",
       "      <th>quantity</th>\n",
       "      <th>date</th>\n",
       "      <th>unit_price</th>\n",
       "      <th>cust_id</th>\n",
       "      <th>country</th>\n",
       "    </tr>\n",
       "  </thead>\n",
       "  <tbody>\n",
       "    <tr>\n",
       "      <th>241824</th>\n",
       "      <td>C512770</td>\n",
       "      <td>M</td>\n",
       "      <td>Manual</td>\n",
       "      <td>-1</td>\n",
       "      <td>17/06/2010 16:52</td>\n",
       "      <td>25111.09</td>\n",
       "      <td>17399.0</td>\n",
       "      <td>United Kingdom</td>\n",
       "    </tr>\n",
       "    <tr>\n",
       "      <th>241827</th>\n",
       "      <td>512771</td>\n",
       "      <td>M</td>\n",
       "      <td>Manual</td>\n",
       "      <td>1</td>\n",
       "      <td>17/06/2010 16:53</td>\n",
       "      <td>25111.09</td>\n",
       "      <td>NaN</td>\n",
       "      <td>United Kingdom</td>\n",
       "    </tr>\n",
       "  </tbody>\n",
       "</table>\n",
       "</div>"
      ],
      "text/plain": [
       "        invoice stock_code    desc  quantity              date  unit_price  \\\n",
       "241824  C512770          M  Manual        -1  17/06/2010 16:52    25111.09   \n",
       "241827   512771          M  Manual         1  17/06/2010 16:53    25111.09   \n",
       "\n",
       "        cust_id         country  \n",
       "241824  17399.0  United Kingdom  \n",
       "241827      NaN  United Kingdom  "
      ]
     },
     "execution_count": 7,
     "metadata": {},
     "output_type": "execute_result"
    }
   ],
   "source": [
    "retail.loc[retail['unit_price'] == 25111.090000]"
   ]
  },
  {
   "cell_type": "code",
   "execution_count": 8,
   "metadata": {
    "colab": {
     "base_uri": "https://localhost:8080/",
     "height": 80
    },
    "colab_type": "code",
    "collapsed": false,
    "id": "mSM6ufhJ3YE7",
    "outputId": "46a275d7-ed24-4659-8fe2-44019a8484fc"
   },
   "outputs": [
    {
     "data": {
      "text/html": [
       "<div>\n",
       "<table border=\"1\" class=\"dataframe\">\n",
       "  <thead>\n",
       "    <tr style=\"text-align: right;\">\n",
       "      <th></th>\n",
       "      <th>invoice</th>\n",
       "      <th>stock_code</th>\n",
       "      <th>desc</th>\n",
       "      <th>quantity</th>\n",
       "      <th>date</th>\n",
       "      <th>unit_price</th>\n",
       "      <th>cust_id</th>\n",
       "      <th>country</th>\n",
       "    </tr>\n",
       "  </thead>\n",
       "  <tbody>\n",
       "    <tr>\n",
       "      <th>179403</th>\n",
       "      <td>A506401</td>\n",
       "      <td>B</td>\n",
       "      <td>Adjust bad debt</td>\n",
       "      <td>1</td>\n",
       "      <td>29/04/2010 13:36</td>\n",
       "      <td>-53594.36</td>\n",
       "      <td>NaN</td>\n",
       "      <td>United Kingdom</td>\n",
       "    </tr>\n",
       "  </tbody>\n",
       "</table>\n",
       "</div>"
      ],
      "text/plain": [
       "        invoice stock_code             desc  quantity              date  \\\n",
       "179403  A506401          B  Adjust bad debt         1  29/04/2010 13:36   \n",
       "\n",
       "        unit_price  cust_id         country  \n",
       "179403   -53594.36      NaN  United Kingdom  "
      ]
     },
     "execution_count": 8,
     "metadata": {},
     "output_type": "execute_result"
    }
   ],
   "source": [
    "retail.loc[retail['unit_price'] == -53594.360000]"
   ]
  },
  {
   "cell_type": "code",
   "execution_count": 9,
   "metadata": {
    "colab": {
     "base_uri": "https://localhost:8080/",
     "height": 34
    },
    "colab_type": "code",
    "collapsed": false,
    "id": "-xsbA5GN3hK4",
    "outputId": "0ce2a37b-e18a-4409-98f3-44c9dda9e815"
   },
   "outputs": [
    {
     "data": {
      "text/plain": [
       "3690"
      ]
     },
     "execution_count": 9,
     "metadata": {},
     "output_type": "execute_result"
    }
   ],
   "source": [
    "(retail['unit_price'] <= 0).sum()"
   ]
  },
  {
   "cell_type": "code",
   "execution_count": 10,
   "metadata": {
    "colab": {
     "base_uri": "https://localhost:8080/",
     "height": 34
    },
    "colab_type": "code",
    "collapsed": false,
    "id": "VCZTw7GA3jEx",
    "outputId": "f5d4452e-ccb8-4662-960d-eab41f68ebce"
   },
   "outputs": [
    {
     "data": {
      "text/plain": [
       "12326"
      ]
     },
     "execution_count": 10,
     "metadata": {},
     "output_type": "execute_result"
    }
   ],
   "source": [
    "(retail['quantity'] <= 0).sum()"
   ]
  },
  {
   "cell_type": "code",
   "execution_count": 11,
   "metadata": {
    "colab": {
     "base_uri": "https://localhost:8080/",
     "height": 34
    },
    "colab_type": "code",
    "collapsed": false,
    "id": "KqpWFgpk3kWA",
    "outputId": "585242f4-4407-4d72-8918-8a90365fb73d"
   },
   "outputs": [
    {
     "data": {
      "text/plain": [
       "2121"
      ]
     },
     "execution_count": 11,
     "metadata": {},
     "output_type": "execute_result"
    }
   ],
   "source": [
    "((retail['unit_price'] <= 0) & (retail['quantity'] <= 0) & (retail['cust_id'].isnull())).sum()"
   ]
  },
  {
   "cell_type": "code",
   "execution_count": 12,
   "metadata": {
    "colab": {
     "base_uri": "https://localhost:8080/",
     "height": 204
    },
    "colab_type": "code",
    "collapsed": false,
    "id": "Zcn2wNYo3s-v",
    "outputId": "a0ccca99-d769-4211-f5eb-c847373974aa"
   },
   "outputs": [
    {
     "data": {
      "text/html": [
       "<div>\n",
       "<table border=\"1\" class=\"dataframe\">\n",
       "  <thead>\n",
       "    <tr style=\"text-align: right;\">\n",
       "      <th></th>\n",
       "      <th>invoice</th>\n",
       "      <th>stock_code</th>\n",
       "      <th>desc</th>\n",
       "      <th>quantity</th>\n",
       "      <th>date</th>\n",
       "      <th>unit_price</th>\n",
       "      <th>cust_id</th>\n",
       "      <th>country</th>\n",
       "    </tr>\n",
       "  </thead>\n",
       "  <tbody>\n",
       "    <tr>\n",
       "      <th>263</th>\n",
       "      <td>489464</td>\n",
       "      <td>21733</td>\n",
       "      <td>85123a mixed</td>\n",
       "      <td>-96</td>\n",
       "      <td>01/12/2009 10:52</td>\n",
       "      <td>0.00</td>\n",
       "      <td>NaN</td>\n",
       "      <td>United Kingdom</td>\n",
       "    </tr>\n",
       "    <tr>\n",
       "      <th>283</th>\n",
       "      <td>489463</td>\n",
       "      <td>71477</td>\n",
       "      <td>short</td>\n",
       "      <td>-240</td>\n",
       "      <td>01/12/2009 10:52</td>\n",
       "      <td>0.00</td>\n",
       "      <td>NaN</td>\n",
       "      <td>United Kingdom</td>\n",
       "    </tr>\n",
       "    <tr>\n",
       "      <th>284</th>\n",
       "      <td>489467</td>\n",
       "      <td>85123A</td>\n",
       "      <td>21733 mixed</td>\n",
       "      <td>-192</td>\n",
       "      <td>01/12/2009 10:53</td>\n",
       "      <td>0.00</td>\n",
       "      <td>NaN</td>\n",
       "      <td>United Kingdom</td>\n",
       "    </tr>\n",
       "    <tr>\n",
       "      <th>470</th>\n",
       "      <td>489521</td>\n",
       "      <td>21646</td>\n",
       "      <td>NaN</td>\n",
       "      <td>-50</td>\n",
       "      <td>01/12/2009 11:44</td>\n",
       "      <td>0.00</td>\n",
       "      <td>NaN</td>\n",
       "      <td>United Kingdom</td>\n",
       "    </tr>\n",
       "    <tr>\n",
       "      <th>577</th>\n",
       "      <td>489525</td>\n",
       "      <td>85226C</td>\n",
       "      <td>BLUE PULL BACK RACING CAR</td>\n",
       "      <td>1</td>\n",
       "      <td>01/12/2009 11:49</td>\n",
       "      <td>0.55</td>\n",
       "      <td>NaN</td>\n",
       "      <td>United Kingdom</td>\n",
       "    </tr>\n",
       "  </tbody>\n",
       "</table>\n",
       "</div>"
      ],
      "text/plain": [
       "    invoice stock_code                       desc  quantity              date  \\\n",
       "263  489464      21733               85123a mixed       -96  01/12/2009 10:52   \n",
       "283  489463      71477                      short      -240  01/12/2009 10:52   \n",
       "284  489467     85123A                21733 mixed      -192  01/12/2009 10:53   \n",
       "470  489521      21646                        NaN       -50  01/12/2009 11:44   \n",
       "577  489525     85226C  BLUE PULL BACK RACING CAR         1  01/12/2009 11:49   \n",
       "\n",
       "     unit_price  cust_id         country  \n",
       "263        0.00      NaN  United Kingdom  \n",
       "283        0.00      NaN  United Kingdom  \n",
       "284        0.00      NaN  United Kingdom  \n",
       "470        0.00      NaN  United Kingdom  \n",
       "577        0.55      NaN  United Kingdom  "
      ]
     },
     "execution_count": 12,
     "metadata": {},
     "output_type": "execute_result"
    }
   ],
   "source": [
    "null_retail = retail[retail.isnull().any(axis=1)]\n",
    "null_retail.head()\n"
   ]
  },
  {
   "cell_type": "code",
   "execution_count": 13,
   "metadata": {
    "colab": {},
    "colab_type": "code",
    "collapsed": true,
    "id": "cpeKtu4W3uUG"
   },
   "outputs": [],
   "source": [
    "new_retail = retail.dropna()"
   ]
  },
  {
   "cell_type": "code",
   "execution_count": 14,
   "metadata": {
    "colab": {},
    "colab_type": "code",
    "collapsed": true,
    "id": "D-r6Ha4A31lx"
   },
   "outputs": [],
   "source": [
    "new_retail = new_retail[(new_retail['unit_price'] > 0) & (new_retail['quantity'] > 0)]"
   ]
  },
  {
   "cell_type": "code",
   "execution_count": 15,
   "metadata": {
    "colab": {
     "base_uri": "https://localhost:8080/",
     "height": 297
    },
    "colab_type": "code",
    "collapsed": false,
    "id": "6ZtwuBiE33P-",
    "outputId": "44a39bd3-adc2-4886-9b09-6e61c710c35d"
   },
   "outputs": [
    {
     "data": {
      "text/html": [
       "<div>\n",
       "<table border=\"1\" class=\"dataframe\">\n",
       "  <thead>\n",
       "    <tr style=\"text-align: right;\">\n",
       "      <th></th>\n",
       "      <th>quantity</th>\n",
       "      <th>unit_price</th>\n",
       "      <th>cust_id</th>\n",
       "    </tr>\n",
       "  </thead>\n",
       "  <tbody>\n",
       "    <tr>\n",
       "      <th>count</th>\n",
       "      <td>407664.000000</td>\n",
       "      <td>407664.000000</td>\n",
       "      <td>407664.000000</td>\n",
       "    </tr>\n",
       "    <tr>\n",
       "      <th>mean</th>\n",
       "      <td>13.585585</td>\n",
       "      <td>3.294438</td>\n",
       "      <td>15368.592598</td>\n",
       "    </tr>\n",
       "    <tr>\n",
       "      <th>std</th>\n",
       "      <td>96.840747</td>\n",
       "      <td>34.757965</td>\n",
       "      <td>1679.762138</td>\n",
       "    </tr>\n",
       "    <tr>\n",
       "      <th>min</th>\n",
       "      <td>1.000000</td>\n",
       "      <td>0.001000</td>\n",
       "      <td>12346.000000</td>\n",
       "    </tr>\n",
       "    <tr>\n",
       "      <th>25%</th>\n",
       "      <td>2.000000</td>\n",
       "      <td>1.250000</td>\n",
       "      <td>13997.000000</td>\n",
       "    </tr>\n",
       "    <tr>\n",
       "      <th>50%</th>\n",
       "      <td>5.000000</td>\n",
       "      <td>1.950000</td>\n",
       "      <td>15321.000000</td>\n",
       "    </tr>\n",
       "    <tr>\n",
       "      <th>75%</th>\n",
       "      <td>12.000000</td>\n",
       "      <td>3.750000</td>\n",
       "      <td>16812.000000</td>\n",
       "    </tr>\n",
       "    <tr>\n",
       "      <th>max</th>\n",
       "      <td>19152.000000</td>\n",
       "      <td>10953.500000</td>\n",
       "      <td>18287.000000</td>\n",
       "    </tr>\n",
       "  </tbody>\n",
       "</table>\n",
       "</div>"
      ],
      "text/plain": [
       "            quantity     unit_price        cust_id\n",
       "count  407664.000000  407664.000000  407664.000000\n",
       "mean       13.585585       3.294438   15368.592598\n",
       "std        96.840747      34.757965    1679.762138\n",
       "min         1.000000       0.001000   12346.000000\n",
       "25%         2.000000       1.250000   13997.000000\n",
       "50%         5.000000       1.950000   15321.000000\n",
       "75%        12.000000       3.750000   16812.000000\n",
       "max     19152.000000   10953.500000   18287.000000"
      ]
     },
     "execution_count": 15,
     "metadata": {},
     "output_type": "execute_result"
    }
   ],
   "source": [
    "new_retail.describe()"
   ]
  },
  {
   "cell_type": "code",
   "execution_count": 16,
   "metadata": {
    "colab": {
     "base_uri": "https://localhost:8080/",
     "height": 389
    },
    "colab_type": "code",
    "collapsed": false,
    "id": "-Dzq-Mbl35e2",
    "outputId": "f1a75223-011b-4bf2-98f4-7857a9650893"
   },
   "outputs": [],
   "source": [
    "\n",
    "plt.subplots(figsize = (12, 6))\n",
    "up = sns.boxplot(new_retail.unit_price)"
   ]
  },
  {
   "cell_type": "code",
   "execution_count": 17,
   "metadata": {
    "colab": {
     "base_uri": "https://localhost:8080/",
     "height": 51
    },
    "colab_type": "code",
    "collapsed": false,
    "id": "S0GU-c7S4ANN",
    "outputId": "2416fe27-e496-4283-9807-f74c2a54da44"
   },
   "outputs": [],
   "source": [
    "new_retail = new_retail[new_retail.unit_price < 6000]"
   ]
  },
  {
   "cell_type": "code",
   "execution_count": 18,
   "metadata": {
    "colab": {
     "base_uri": "https://localhost:8080/",
     "height": 297
    },
    "colab_type": "code",
    "collapsed": false,
    "id": "eOyZ38ii4CA2",
    "outputId": "f8f4ef7d-f127-4756-d787-3209d352f41b"
   },
   "outputs": [
    {
     "data": {
      "text/html": [
       "<div>\n",
       "<table border=\"1\" class=\"dataframe\">\n",
       "  <thead>\n",
       "    <tr style=\"text-align: right;\">\n",
       "      <th></th>\n",
       "      <th>quantity</th>\n",
       "      <th>unit_price</th>\n",
       "      <th>cust_id</th>\n",
       "    </tr>\n",
       "  </thead>\n",
       "  <tbody>\n",
       "    <tr>\n",
       "      <th>count</th>\n",
       "      <td>407659.000000</td>\n",
       "      <td>407659.000000</td>\n",
       "      <td>407659.000000</td>\n",
       "    </tr>\n",
       "    <tr>\n",
       "      <th>mean</th>\n",
       "      <td>13.585740</td>\n",
       "      <td>3.185750</td>\n",
       "      <td>15368.593562</td>\n",
       "    </tr>\n",
       "    <tr>\n",
       "      <th>std</th>\n",
       "      <td>96.841331</td>\n",
       "      <td>14.494341</td>\n",
       "      <td>1679.761725</td>\n",
       "    </tr>\n",
       "    <tr>\n",
       "      <th>min</th>\n",
       "      <td>1.000000</td>\n",
       "      <td>0.001000</td>\n",
       "      <td>12346.000000</td>\n",
       "    </tr>\n",
       "    <tr>\n",
       "      <th>25%</th>\n",
       "      <td>2.000000</td>\n",
       "      <td>1.250000</td>\n",
       "      <td>13997.000000</td>\n",
       "    </tr>\n",
       "    <tr>\n",
       "      <th>50%</th>\n",
       "      <td>5.000000</td>\n",
       "      <td>1.950000</td>\n",
       "      <td>15321.000000</td>\n",
       "    </tr>\n",
       "    <tr>\n",
       "      <th>75%</th>\n",
       "      <td>12.000000</td>\n",
       "      <td>3.750000</td>\n",
       "      <td>16812.000000</td>\n",
       "    </tr>\n",
       "    <tr>\n",
       "      <th>max</th>\n",
       "      <td>19152.000000</td>\n",
       "      <td>3610.500000</td>\n",
       "      <td>18287.000000</td>\n",
       "    </tr>\n",
       "  </tbody>\n",
       "</table>\n",
       "</div>"
      ],
      "text/plain": [
       "            quantity     unit_price        cust_id\n",
       "count  407659.000000  407659.000000  407659.000000\n",
       "mean       13.585740       3.185750   15368.593562\n",
       "std        96.841331      14.494341    1679.761725\n",
       "min         1.000000       0.001000   12346.000000\n",
       "25%         2.000000       1.250000   13997.000000\n",
       "50%         5.000000       1.950000   15321.000000\n",
       "75%        12.000000       3.750000   16812.000000\n",
       "max     19152.000000    3610.500000   18287.000000"
      ]
     },
     "execution_count": 18,
     "metadata": {},
     "output_type": "execute_result"
    }
   ],
   "source": [
    "\n",
    "new_retail.describe()"
   ]
  },
  {
   "cell_type": "code",
   "execution_count": 19,
   "metadata": {
    "colab": {
     "base_uri": "https://localhost:8080/",
     "height": 280
    },
    "colab_type": "code",
    "collapsed": false,
    "id": "lqndq7ep4MlW",
    "outputId": "4330ad11-5659-4644-d76a-a3d0238c6b81"
   },
   "outputs": [],
   "source": [
    "up_new = sns.boxplot(new_retail.unit_price)"
   ]
  },
  {
   "cell_type": "code",
   "execution_count": 20,
   "metadata": {
    "colab": {
     "base_uri": "https://localhost:8080/",
     "height": 388
    },
    "colab_type": "code",
    "collapsed": false,
    "id": "q0EDlr-W4TOF",
    "outputId": "8ae3d117-7e17-4593-85e4-0f0c615f4edc"
   },
   "outputs": [],
   "source": [
    "plt.subplots(figsize = (12, 6))\n",
    "q = sns.boxplot(new_retail.quantity)"
   ]
  },
  {
   "cell_type": "code",
   "execution_count": 21,
   "metadata": {
    "colab": {
     "base_uri": "https://localhost:8080/",
     "height": 51
    },
    "colab_type": "code",
    "collapsed": false,
    "id": "gMnvTANe4VdM",
    "outputId": "71cba891-9816-4956-d7bc-c9539a464ca3"
   },
   "outputs": [],
   "source": [
    "new_retail = new_retail[new_retail.quantity < 15000]"
   ]
  },
  {
   "cell_type": "code",
   "execution_count": 22,
   "metadata": {
    "colab": {
     "base_uri": "https://localhost:8080/",
     "height": 297
    },
    "colab_type": "code",
    "collapsed": false,
    "id": "xNsH2Wy94iPm",
    "outputId": "5bc4e042-f7c1-411b-93c4-c6a99b579d46"
   },
   "outputs": [
    {
     "data": {
      "text/html": [
       "<div>\n",
       "<table border=\"1\" class=\"dataframe\">\n",
       "  <thead>\n",
       "    <tr style=\"text-align: right;\">\n",
       "      <th></th>\n",
       "      <th>quantity</th>\n",
       "      <th>unit_price</th>\n",
       "      <th>cust_id</th>\n",
       "    </tr>\n",
       "  </thead>\n",
       "  <tbody>\n",
       "    <tr>\n",
       "      <th>count</th>\n",
       "      <td>407658.000000</td>\n",
       "      <td>407658.000000</td>\n",
       "      <td>407658.000000</td>\n",
       "    </tr>\n",
       "    <tr>\n",
       "      <th>mean</th>\n",
       "      <td>13.538792</td>\n",
       "      <td>3.185757</td>\n",
       "      <td>15368.597160</td>\n",
       "    </tr>\n",
       "    <tr>\n",
       "      <th>std</th>\n",
       "      <td>92.085647</td>\n",
       "      <td>14.494358</td>\n",
       "      <td>1679.762214</td>\n",
       "    </tr>\n",
       "    <tr>\n",
       "      <th>min</th>\n",
       "      <td>1.000000</td>\n",
       "      <td>0.001000</td>\n",
       "      <td>12346.000000</td>\n",
       "    </tr>\n",
       "    <tr>\n",
       "      <th>25%</th>\n",
       "      <td>2.000000</td>\n",
       "      <td>1.250000</td>\n",
       "      <td>13997.000000</td>\n",
       "    </tr>\n",
       "    <tr>\n",
       "      <th>50%</th>\n",
       "      <td>5.000000</td>\n",
       "      <td>1.950000</td>\n",
       "      <td>15321.000000</td>\n",
       "    </tr>\n",
       "    <tr>\n",
       "      <th>75%</th>\n",
       "      <td>12.000000</td>\n",
       "      <td>3.750000</td>\n",
       "      <td>16812.000000</td>\n",
       "    </tr>\n",
       "    <tr>\n",
       "      <th>max</th>\n",
       "      <td>12960.000000</td>\n",
       "      <td>3610.500000</td>\n",
       "      <td>18287.000000</td>\n",
       "    </tr>\n",
       "  </tbody>\n",
       "</table>\n",
       "</div>"
      ],
      "text/plain": [
       "            quantity     unit_price        cust_id\n",
       "count  407658.000000  407658.000000  407658.000000\n",
       "mean       13.538792       3.185757   15368.597160\n",
       "std        92.085647      14.494358    1679.762214\n",
       "min         1.000000       0.001000   12346.000000\n",
       "25%         2.000000       1.250000   13997.000000\n",
       "50%         5.000000       1.950000   15321.000000\n",
       "75%        12.000000       3.750000   16812.000000\n",
       "max     12960.000000    3610.500000   18287.000000"
      ]
     },
     "execution_count": 22,
     "metadata": {},
     "output_type": "execute_result"
    }
   ],
   "source": [
    "new_retail.describe()\n"
   ]
  },
  {
   "cell_type": "code",
   "execution_count": 23,
   "metadata": {
    "colab": {
     "base_uri": "https://localhost:8080/",
     "height": 279
    },
    "colab_type": "code",
    "collapsed": false,
    "id": "SS04zP2K4opr",
    "outputId": "beee150a-006b-4df7-94f3-75e6327f84f5"
   },
   "outputs": [],
   "source": [
    "q_new = sns.boxplot(new_retail.quantity)"
   ]
  },
  {
   "cell_type": "code",
   "execution_count": 24,
   "metadata": {
    "colab": {
     "base_uri": "https://localhost:8080/",
     "height": 238
    },
    "colab_type": "code",
    "collapsed": false,
    "id": "-9EuuHow46MR",
    "outputId": "8a6d1921-ade7-47e0-f942-7ff28ce81f68"
   },
   "outputs": [
    {
     "name": "stdout",
     "output_type": "stream",
     "text": [
      "<class 'pandas.core.frame.DataFrame'>\n",
      "Index: 407658 entries, 0 to 525460\n",
      "Data columns (total 8 columns):\n",
      "invoice       407658 non-null object\n",
      "stock_code    407658 non-null object\n",
      "desc          407658 non-null object\n",
      "quantity      407658 non-null int64\n",
      "date          407658 non-null object\n",
      "unit_price    407658 non-null float64\n",
      "cust_id       407658 non-null float64\n",
      "country       407658 non-null object\n",
      "dtypes: float64(2), int64(1), object(5)\n",
      "memory usage: 28.0+ MB\n"
     ]
    }
   ],
   "source": [
    "new_retail[(new_retail.desc.isnull()) & (new_retail.cust_id.isnull())]\n",
    "new_retail.info()\n"
   ]
  },
  {
   "cell_type": "code",
   "execution_count": 25,
   "metadata": {
    "colab": {
     "base_uri": "https://localhost:8080/",
     "height": 204
    },
    "colab_type": "code",
    "collapsed": false,
    "id": "WMG5rAHV5AAa",
    "outputId": "aff05e4b-dd22-44b8-88e7-627defa42494"
   },
   "outputs": [
    {
     "data": {
      "text/html": [
       "<div>\n",
       "<table border=\"1\" class=\"dataframe\">\n",
       "  <thead>\n",
       "    <tr style=\"text-align: right;\">\n",
       "      <th></th>\n",
       "      <th>invoice</th>\n",
       "      <th>stock_code</th>\n",
       "      <th>desc</th>\n",
       "      <th>quantity</th>\n",
       "      <th>date</th>\n",
       "      <th>unit_price</th>\n",
       "      <th>cust_id</th>\n",
       "      <th>country</th>\n",
       "    </tr>\n",
       "  </thead>\n",
       "  <tbody>\n",
       "    <tr>\n",
       "      <th>0</th>\n",
       "      <td>489434</td>\n",
       "      <td>85048</td>\n",
       "      <td>15CM CHRISTMAS GLASS BALL 20 LIGHTS</td>\n",
       "      <td>12</td>\n",
       "      <td>01/12/2009 07:45</td>\n",
       "      <td>6.95</td>\n",
       "      <td>13085.0</td>\n",
       "      <td>United Kingdom</td>\n",
       "    </tr>\n",
       "    <tr>\n",
       "      <th>1</th>\n",
       "      <td>489434</td>\n",
       "      <td>79323P</td>\n",
       "      <td>PINK CHERRY LIGHTS</td>\n",
       "      <td>12</td>\n",
       "      <td>01/12/2009 07:45</td>\n",
       "      <td>6.75</td>\n",
       "      <td>13085.0</td>\n",
       "      <td>United Kingdom</td>\n",
       "    </tr>\n",
       "    <tr>\n",
       "      <th>2</th>\n",
       "      <td>489434</td>\n",
       "      <td>79323W</td>\n",
       "      <td>WHITE CHERRY LIGHTS</td>\n",
       "      <td>12</td>\n",
       "      <td>01/12/2009 07:45</td>\n",
       "      <td>6.75</td>\n",
       "      <td>13085.0</td>\n",
       "      <td>United Kingdom</td>\n",
       "    </tr>\n",
       "    <tr>\n",
       "      <th>3</th>\n",
       "      <td>489434</td>\n",
       "      <td>22041</td>\n",
       "      <td>RECORD FRAME 7\" SINGLE SIZE</td>\n",
       "      <td>48</td>\n",
       "      <td>01/12/2009 07:45</td>\n",
       "      <td>2.10</td>\n",
       "      <td>13085.0</td>\n",
       "      <td>United Kingdom</td>\n",
       "    </tr>\n",
       "    <tr>\n",
       "      <th>4</th>\n",
       "      <td>489434</td>\n",
       "      <td>21232</td>\n",
       "      <td>STRAWBERRY CERAMIC TRINKET BOX</td>\n",
       "      <td>24</td>\n",
       "      <td>01/12/2009 07:45</td>\n",
       "      <td>1.25</td>\n",
       "      <td>13085.0</td>\n",
       "      <td>United Kingdom</td>\n",
       "    </tr>\n",
       "  </tbody>\n",
       "</table>\n",
       "</div>"
      ],
      "text/plain": [
       "  invoice stock_code                                 desc  quantity  \\\n",
       "0  489434      85048  15CM CHRISTMAS GLASS BALL 20 LIGHTS        12   \n",
       "1  489434     79323P                   PINK CHERRY LIGHTS        12   \n",
       "2  489434     79323W                  WHITE CHERRY LIGHTS        12   \n",
       "3  489434      22041         RECORD FRAME 7\" SINGLE SIZE         48   \n",
       "4  489434      21232       STRAWBERRY CERAMIC TRINKET BOX        24   \n",
       "\n",
       "               date  unit_price  cust_id         country  \n",
       "0  01/12/2009 07:45        6.95  13085.0  United Kingdom  \n",
       "1  01/12/2009 07:45        6.75  13085.0  United Kingdom  \n",
       "2  01/12/2009 07:45        6.75  13085.0  United Kingdom  \n",
       "3  01/12/2009 07:45        2.10  13085.0  United Kingdom  \n",
       "4  01/12/2009 07:45        1.25  13085.0  United Kingdom  "
      ]
     },
     "execution_count": 25,
     "metadata": {},
     "output_type": "execute_result"
    }
   ],
   "source": [
    "retail = new_retail\n",
    "retail.head()"
   ]
  },
  {
   "cell_type": "markdown",
   "metadata": {
    "colab_type": "text",
    "id": "vNZhOcCJzPVm"
   },
   "source": [
    "**Exercise 8.02**"
   ]
  },
  {
   "cell_type": "code",
   "execution_count": 26,
   "metadata": {
    "colab": {
     "base_uri": "https://localhost:8080/",
     "height": 204
    },
    "colab_type": "code",
    "collapsed": false,
    "id": "GY82ILfK8ndm",
    "outputId": "e94246de-2474-4838-9259-b132cdb7fd7d"
   },
   "outputs": [
    {
     "data": {
      "text/html": [
       "<div>\n",
       "<table border=\"1\" class=\"dataframe\">\n",
       "  <thead>\n",
       "    <tr style=\"text-align: right;\">\n",
       "      <th></th>\n",
       "      <th>invoice</th>\n",
       "      <th>stock_code</th>\n",
       "      <th>desc</th>\n",
       "      <th>quantity</th>\n",
       "      <th>date</th>\n",
       "      <th>unit_price</th>\n",
       "      <th>cust_id</th>\n",
       "      <th>country</th>\n",
       "    </tr>\n",
       "  </thead>\n",
       "  <tbody>\n",
       "    <tr>\n",
       "      <th>0</th>\n",
       "      <td>489434</td>\n",
       "      <td>85048</td>\n",
       "      <td>15cm christmas glass ball 20 lights</td>\n",
       "      <td>12</td>\n",
       "      <td>01/12/2009 07:45</td>\n",
       "      <td>6.95</td>\n",
       "      <td>13085.0</td>\n",
       "      <td>United Kingdom</td>\n",
       "    </tr>\n",
       "    <tr>\n",
       "      <th>1</th>\n",
       "      <td>489434</td>\n",
       "      <td>79323P</td>\n",
       "      <td>pink cherry lights</td>\n",
       "      <td>12</td>\n",
       "      <td>01/12/2009 07:45</td>\n",
       "      <td>6.75</td>\n",
       "      <td>13085.0</td>\n",
       "      <td>United Kingdom</td>\n",
       "    </tr>\n",
       "    <tr>\n",
       "      <th>2</th>\n",
       "      <td>489434</td>\n",
       "      <td>79323W</td>\n",
       "      <td>white cherry lights</td>\n",
       "      <td>12</td>\n",
       "      <td>01/12/2009 07:45</td>\n",
       "      <td>6.75</td>\n",
       "      <td>13085.0</td>\n",
       "      <td>United Kingdom</td>\n",
       "    </tr>\n",
       "    <tr>\n",
       "      <th>3</th>\n",
       "      <td>489434</td>\n",
       "      <td>22041</td>\n",
       "      <td>record frame 7\" single size</td>\n",
       "      <td>48</td>\n",
       "      <td>01/12/2009 07:45</td>\n",
       "      <td>2.10</td>\n",
       "      <td>13085.0</td>\n",
       "      <td>United Kingdom</td>\n",
       "    </tr>\n",
       "    <tr>\n",
       "      <th>4</th>\n",
       "      <td>489434</td>\n",
       "      <td>21232</td>\n",
       "      <td>strawberry ceramic trinket box</td>\n",
       "      <td>24</td>\n",
       "      <td>01/12/2009 07:45</td>\n",
       "      <td>1.25</td>\n",
       "      <td>13085.0</td>\n",
       "      <td>United Kingdom</td>\n",
       "    </tr>\n",
       "  </tbody>\n",
       "</table>\n",
       "</div>"
      ],
      "text/plain": [
       "  invoice stock_code                                 desc  quantity  \\\n",
       "0  489434      85048  15cm christmas glass ball 20 lights        12   \n",
       "1  489434     79323P                   pink cherry lights        12   \n",
       "2  489434     79323W                  white cherry lights        12   \n",
       "3  489434      22041         record frame 7\" single size         48   \n",
       "4  489434      21232       strawberry ceramic trinket box        24   \n",
       "\n",
       "               date  unit_price  cust_id         country  \n",
       "0  01/12/2009 07:45        6.95  13085.0  United Kingdom  \n",
       "1  01/12/2009 07:45        6.75  13085.0  United Kingdom  \n",
       "2  01/12/2009 07:45        6.75  13085.0  United Kingdom  \n",
       "3  01/12/2009 07:45        2.10  13085.0  United Kingdom  \n",
       "4  01/12/2009 07:45        1.25  13085.0  United Kingdom  "
      ]
     },
     "execution_count": 26,
     "metadata": {},
     "output_type": "execute_result"
    }
   ],
   "source": [
    "retail.desc = retail.desc.str.lower()\n",
    "retail.head()"
   ]
  },
  {
   "cell_type": "code",
   "execution_count": 27,
   "metadata": {
    "colab": {
     "base_uri": "https://localhost:8080/",
     "height": 204
    },
    "colab_type": "code",
    "collapsed": false,
    "id": "pULoTQQv8sbx",
    "outputId": "bbc8e034-12cd-42c3-c999-72b25826a1c5"
   },
   "outputs": [
    {
     "data": {
      "text/html": [
       "<div>\n",
       "<table border=\"1\" class=\"dataframe\">\n",
       "  <thead>\n",
       "    <tr style=\"text-align: right;\">\n",
       "      <th></th>\n",
       "      <th>invoice</th>\n",
       "      <th>stock_code</th>\n",
       "      <th>desc</th>\n",
       "      <th>quantity</th>\n",
       "      <th>date</th>\n",
       "      <th>unit_price</th>\n",
       "      <th>cust_id</th>\n",
       "      <th>country</th>\n",
       "    </tr>\n",
       "  </thead>\n",
       "  <tbody>\n",
       "    <tr>\n",
       "      <th>0</th>\n",
       "      <td>489434</td>\n",
       "      <td>85048</td>\n",
       "      <td>15cm christmas glass ball 20 lights</td>\n",
       "      <td>12</td>\n",
       "      <td>2009-12-01 07:45:00</td>\n",
       "      <td>6.95</td>\n",
       "      <td>13085.0</td>\n",
       "      <td>United Kingdom</td>\n",
       "    </tr>\n",
       "    <tr>\n",
       "      <th>1</th>\n",
       "      <td>489434</td>\n",
       "      <td>79323P</td>\n",
       "      <td>pink cherry lights</td>\n",
       "      <td>12</td>\n",
       "      <td>2009-12-01 07:45:00</td>\n",
       "      <td>6.75</td>\n",
       "      <td>13085.0</td>\n",
       "      <td>United Kingdom</td>\n",
       "    </tr>\n",
       "    <tr>\n",
       "      <th>2</th>\n",
       "      <td>489434</td>\n",
       "      <td>79323W</td>\n",
       "      <td>white cherry lights</td>\n",
       "      <td>12</td>\n",
       "      <td>2009-12-01 07:45:00</td>\n",
       "      <td>6.75</td>\n",
       "      <td>13085.0</td>\n",
       "      <td>United Kingdom</td>\n",
       "    </tr>\n",
       "    <tr>\n",
       "      <th>3</th>\n",
       "      <td>489434</td>\n",
       "      <td>22041</td>\n",
       "      <td>record frame 7\" single size</td>\n",
       "      <td>48</td>\n",
       "      <td>2009-12-01 07:45:00</td>\n",
       "      <td>2.10</td>\n",
       "      <td>13085.0</td>\n",
       "      <td>United Kingdom</td>\n",
       "    </tr>\n",
       "    <tr>\n",
       "      <th>4</th>\n",
       "      <td>489434</td>\n",
       "      <td>21232</td>\n",
       "      <td>strawberry ceramic trinket box</td>\n",
       "      <td>24</td>\n",
       "      <td>2009-12-01 07:45:00</td>\n",
       "      <td>1.25</td>\n",
       "      <td>13085.0</td>\n",
       "      <td>United Kingdom</td>\n",
       "    </tr>\n",
       "  </tbody>\n",
       "</table>\n",
       "</div>"
      ],
      "text/plain": [
       "  invoice stock_code                                 desc  quantity  \\\n",
       "0  489434      85048  15cm christmas glass ball 20 lights        12   \n",
       "1  489434     79323P                   pink cherry lights        12   \n",
       "2  489434     79323W                  white cherry lights        12   \n",
       "3  489434      22041         record frame 7\" single size         48   \n",
       "4  489434      21232       strawberry ceramic trinket box        24   \n",
       "\n",
       "                 date  unit_price  cust_id         country  \n",
       "0 2009-12-01 07:45:00        6.95  13085.0  United Kingdom  \n",
       "1 2009-12-01 07:45:00        6.75  13085.0  United Kingdom  \n",
       "2 2009-12-01 07:45:00        6.75  13085.0  United Kingdom  \n",
       "3 2009-12-01 07:45:00        2.10  13085.0  United Kingdom  \n",
       "4 2009-12-01 07:45:00        1.25  13085.0  United Kingdom  "
      ]
     },
     "execution_count": 27,
     "metadata": {},
     "output_type": "execute_result"
    }
   ],
   "source": [
    "\n",
    "retail['date'] = pd.to_datetime(retail.date, format = '%d/%m/%Y %H:%M')\n",
    "retail.head()\n"
   ]
  },
  {
   "cell_type": "code",
   "execution_count": 28,
   "metadata": {
    "colab": {
     "base_uri": "https://localhost:8080/",
     "height": 204
    },
    "colab_type": "code",
    "collapsed": false,
    "id": "w-aHI__H9Mbh",
    "outputId": "db9cc270-f91a-41fd-8d11-4d43f34d5ef7"
   },
   "outputs": [
    {
     "data": {
      "text/html": [
       "<div>\n",
       "<table border=\"1\" class=\"dataframe\">\n",
       "  <thead>\n",
       "    <tr style=\"text-align: right;\">\n",
       "      <th></th>\n",
       "      <th>invoice</th>\n",
       "      <th>stock_code</th>\n",
       "      <th>desc</th>\n",
       "      <th>quantity</th>\n",
       "      <th>year_month</th>\n",
       "      <th>year</th>\n",
       "      <th>month</th>\n",
       "      <th>day</th>\n",
       "      <th>hour</th>\n",
       "      <th>day_of_week</th>\n",
       "      <th>date</th>\n",
       "      <th>unit_price</th>\n",
       "      <th>cust_id</th>\n",
       "      <th>country</th>\n",
       "    </tr>\n",
       "  </thead>\n",
       "  <tbody>\n",
       "    <tr>\n",
       "      <th>0</th>\n",
       "      <td>489434</td>\n",
       "      <td>85048</td>\n",
       "      <td>15cm christmas glass ball 20 lights</td>\n",
       "      <td>12</td>\n",
       "      <td>200912</td>\n",
       "      <td>2009</td>\n",
       "      <td>12</td>\n",
       "      <td>1</td>\n",
       "      <td>7</td>\n",
       "      <td>2</td>\n",
       "      <td>2009-12-01 07:45:00</td>\n",
       "      <td>6.95</td>\n",
       "      <td>13085.0</td>\n",
       "      <td>United Kingdom</td>\n",
       "    </tr>\n",
       "    <tr>\n",
       "      <th>1</th>\n",
       "      <td>489434</td>\n",
       "      <td>79323P</td>\n",
       "      <td>pink cherry lights</td>\n",
       "      <td>12</td>\n",
       "      <td>200912</td>\n",
       "      <td>2009</td>\n",
       "      <td>12</td>\n",
       "      <td>1</td>\n",
       "      <td>7</td>\n",
       "      <td>2</td>\n",
       "      <td>2009-12-01 07:45:00</td>\n",
       "      <td>6.75</td>\n",
       "      <td>13085.0</td>\n",
       "      <td>United Kingdom</td>\n",
       "    </tr>\n",
       "    <tr>\n",
       "      <th>2</th>\n",
       "      <td>489434</td>\n",
       "      <td>79323W</td>\n",
       "      <td>white cherry lights</td>\n",
       "      <td>12</td>\n",
       "      <td>200912</td>\n",
       "      <td>2009</td>\n",
       "      <td>12</td>\n",
       "      <td>1</td>\n",
       "      <td>7</td>\n",
       "      <td>2</td>\n",
       "      <td>2009-12-01 07:45:00</td>\n",
       "      <td>6.75</td>\n",
       "      <td>13085.0</td>\n",
       "      <td>United Kingdom</td>\n",
       "    </tr>\n",
       "    <tr>\n",
       "      <th>3</th>\n",
       "      <td>489434</td>\n",
       "      <td>22041</td>\n",
       "      <td>record frame 7\" single size</td>\n",
       "      <td>48</td>\n",
       "      <td>200912</td>\n",
       "      <td>2009</td>\n",
       "      <td>12</td>\n",
       "      <td>1</td>\n",
       "      <td>7</td>\n",
       "      <td>2</td>\n",
       "      <td>2009-12-01 07:45:00</td>\n",
       "      <td>2.10</td>\n",
       "      <td>13085.0</td>\n",
       "      <td>United Kingdom</td>\n",
       "    </tr>\n",
       "    <tr>\n",
       "      <th>4</th>\n",
       "      <td>489434</td>\n",
       "      <td>21232</td>\n",
       "      <td>strawberry ceramic trinket box</td>\n",
       "      <td>24</td>\n",
       "      <td>200912</td>\n",
       "      <td>2009</td>\n",
       "      <td>12</td>\n",
       "      <td>1</td>\n",
       "      <td>7</td>\n",
       "      <td>2</td>\n",
       "      <td>2009-12-01 07:45:00</td>\n",
       "      <td>1.25</td>\n",
       "      <td>13085.0</td>\n",
       "      <td>United Kingdom</td>\n",
       "    </tr>\n",
       "  </tbody>\n",
       "</table>\n",
       "</div>"
      ],
      "text/plain": [
       "  invoice stock_code                                 desc  quantity  \\\n",
       "0  489434      85048  15cm christmas glass ball 20 lights        12   \n",
       "1  489434     79323P                   pink cherry lights        12   \n",
       "2  489434     79323W                  white cherry lights        12   \n",
       "3  489434      22041         record frame 7\" single size         48   \n",
       "4  489434      21232       strawberry ceramic trinket box        24   \n",
       "\n",
       "   year_month  year  month  day  hour  day_of_week                date  \\\n",
       "0      200912  2009     12    1     7            2 2009-12-01 07:45:00   \n",
       "1      200912  2009     12    1     7            2 2009-12-01 07:45:00   \n",
       "2      200912  2009     12    1     7            2 2009-12-01 07:45:00   \n",
       "3      200912  2009     12    1     7            2 2009-12-01 07:45:00   \n",
       "4      200912  2009     12    1     7            2 2009-12-01 07:45:00   \n",
       "\n",
       "   unit_price  cust_id         country  \n",
       "0        6.95  13085.0  United Kingdom  \n",
       "1        6.75  13085.0  United Kingdom  \n",
       "2        6.75  13085.0  United Kingdom  \n",
       "3        2.10  13085.0  United Kingdom  \n",
       "4        1.25  13085.0  United Kingdom  "
      ]
     },
     "execution_count": 28,
     "metadata": {},
     "output_type": "execute_result"
    }
   ],
   "source": [
    "retail.insert(loc = 4, column = 'year_month', value = retail.date.map(lambda x: 100 * x.year + x.month))\n",
    "retail.insert(loc = 5, column = 'year', value = retail.date.dt.year)\n",
    "retail.insert(loc = 6, column = 'month', value = retail.date.dt.month)\n",
    "retail.insert(loc = 7, column = 'day', value = retail.date.dt.day)\n",
    "retail.insert(loc = 8, column ='hour', value = retail.date.dt.hour)\n",
    "retail.insert(loc = 9, column='day_of_week', value=(retail.date.dt.dayofweek)+1)\n",
    "retail.head()"
   ]
  },
  {
   "cell_type": "code",
   "execution_count": 29,
   "metadata": {
    "colab": {
     "base_uri": "https://localhost:8080/",
     "height": 204
    },
    "colab_type": "code",
    "collapsed": false,
    "id": "9A2azKOu9Ryp",
    "outputId": "2f403a45-830a-4bf5-c377-1263f09b68a0"
   },
   "outputs": [
    {
     "data": {
      "text/html": [
       "<div>\n",
       "<table border=\"1\" class=\"dataframe\">\n",
       "  <thead>\n",
       "    <tr style=\"text-align: right;\">\n",
       "      <th></th>\n",
       "      <th>invoice</th>\n",
       "      <th>stock_code</th>\n",
       "      <th>desc</th>\n",
       "      <th>quantity</th>\n",
       "      <th>year_month</th>\n",
       "      <th>year</th>\n",
       "      <th>month</th>\n",
       "      <th>day</th>\n",
       "      <th>hour</th>\n",
       "      <th>day_of_week</th>\n",
       "      <th>date</th>\n",
       "      <th>spent</th>\n",
       "      <th>unit_price</th>\n",
       "      <th>cust_id</th>\n",
       "      <th>country</th>\n",
       "    </tr>\n",
       "  </thead>\n",
       "  <tbody>\n",
       "    <tr>\n",
       "      <th>0</th>\n",
       "      <td>489434</td>\n",
       "      <td>85048</td>\n",
       "      <td>15cm christmas glass ball 20 lights</td>\n",
       "      <td>12</td>\n",
       "      <td>200912</td>\n",
       "      <td>2009</td>\n",
       "      <td>12</td>\n",
       "      <td>1</td>\n",
       "      <td>7</td>\n",
       "      <td>2</td>\n",
       "      <td>2009-12-01 07:45:00</td>\n",
       "      <td>83.4</td>\n",
       "      <td>6.95</td>\n",
       "      <td>13085.0</td>\n",
       "      <td>United Kingdom</td>\n",
       "    </tr>\n",
       "    <tr>\n",
       "      <th>1</th>\n",
       "      <td>489434</td>\n",
       "      <td>79323P</td>\n",
       "      <td>pink cherry lights</td>\n",
       "      <td>12</td>\n",
       "      <td>200912</td>\n",
       "      <td>2009</td>\n",
       "      <td>12</td>\n",
       "      <td>1</td>\n",
       "      <td>7</td>\n",
       "      <td>2</td>\n",
       "      <td>2009-12-01 07:45:00</td>\n",
       "      <td>81.0</td>\n",
       "      <td>6.75</td>\n",
       "      <td>13085.0</td>\n",
       "      <td>United Kingdom</td>\n",
       "    </tr>\n",
       "    <tr>\n",
       "      <th>2</th>\n",
       "      <td>489434</td>\n",
       "      <td>79323W</td>\n",
       "      <td>white cherry lights</td>\n",
       "      <td>12</td>\n",
       "      <td>200912</td>\n",
       "      <td>2009</td>\n",
       "      <td>12</td>\n",
       "      <td>1</td>\n",
       "      <td>7</td>\n",
       "      <td>2</td>\n",
       "      <td>2009-12-01 07:45:00</td>\n",
       "      <td>81.0</td>\n",
       "      <td>6.75</td>\n",
       "      <td>13085.0</td>\n",
       "      <td>United Kingdom</td>\n",
       "    </tr>\n",
       "    <tr>\n",
       "      <th>3</th>\n",
       "      <td>489434</td>\n",
       "      <td>22041</td>\n",
       "      <td>record frame 7\" single size</td>\n",
       "      <td>48</td>\n",
       "      <td>200912</td>\n",
       "      <td>2009</td>\n",
       "      <td>12</td>\n",
       "      <td>1</td>\n",
       "      <td>7</td>\n",
       "      <td>2</td>\n",
       "      <td>2009-12-01 07:45:00</td>\n",
       "      <td>100.8</td>\n",
       "      <td>2.10</td>\n",
       "      <td>13085.0</td>\n",
       "      <td>United Kingdom</td>\n",
       "    </tr>\n",
       "    <tr>\n",
       "      <th>4</th>\n",
       "      <td>489434</td>\n",
       "      <td>21232</td>\n",
       "      <td>strawberry ceramic trinket box</td>\n",
       "      <td>24</td>\n",
       "      <td>200912</td>\n",
       "      <td>2009</td>\n",
       "      <td>12</td>\n",
       "      <td>1</td>\n",
       "      <td>7</td>\n",
       "      <td>2</td>\n",
       "      <td>2009-12-01 07:45:00</td>\n",
       "      <td>30.0</td>\n",
       "      <td>1.25</td>\n",
       "      <td>13085.0</td>\n",
       "      <td>United Kingdom</td>\n",
       "    </tr>\n",
       "  </tbody>\n",
       "</table>\n",
       "</div>"
      ],
      "text/plain": [
       "  invoice stock_code                                 desc  quantity  \\\n",
       "0  489434      85048  15cm christmas glass ball 20 lights        12   \n",
       "1  489434     79323P                   pink cherry lights        12   \n",
       "2  489434     79323W                  white cherry lights        12   \n",
       "3  489434      22041         record frame 7\" single size         48   \n",
       "4  489434      21232       strawberry ceramic trinket box        24   \n",
       "\n",
       "   year_month  year  month  day  hour  day_of_week                date  spent  \\\n",
       "0      200912  2009     12    1     7            2 2009-12-01 07:45:00   83.4   \n",
       "1      200912  2009     12    1     7            2 2009-12-01 07:45:00   81.0   \n",
       "2      200912  2009     12    1     7            2 2009-12-01 07:45:00   81.0   \n",
       "3      200912  2009     12    1     7            2 2009-12-01 07:45:00  100.8   \n",
       "4      200912  2009     12    1     7            2 2009-12-01 07:45:00   30.0   \n",
       "\n",
       "   unit_price  cust_id         country  \n",
       "0        6.95  13085.0  United Kingdom  \n",
       "1        6.75  13085.0  United Kingdom  \n",
       "2        6.75  13085.0  United Kingdom  \n",
       "3        2.10  13085.0  United Kingdom  \n",
       "4        1.25  13085.0  United Kingdom  "
      ]
     },
     "execution_count": 29,
     "metadata": {},
     "output_type": "execute_result"
    }
   ],
   "source": [
    "retail.insert(loc = 11, column = 'spent', value = (retail['quantity'] * retail['unit_price']))\n",
    "retail.head()"
   ]
  },
  {
   "cell_type": "code",
   "execution_count": 30,
   "metadata": {
    "colab": {
     "base_uri": "https://localhost:8080/",
     "height": 204
    },
    "colab_type": "code",
    "collapsed": false,
    "id": "lVZp548o96jk",
    "outputId": "1d4f13eb-6e9c-42ef-a0da-d532a0950944"
   },
   "outputs": [
    {
     "data": {
      "text/html": [
       "<div>\n",
       "<table border=\"1\" class=\"dataframe\">\n",
       "  <thead>\n",
       "    <tr style=\"text-align: right;\">\n",
       "      <th></th>\n",
       "      <th>invoice</th>\n",
       "      <th>country</th>\n",
       "      <th>cust_id</th>\n",
       "      <th>stock_code</th>\n",
       "      <th>desc</th>\n",
       "      <th>quantity</th>\n",
       "      <th>unit_price</th>\n",
       "      <th>date</th>\n",
       "      <th>spent</th>\n",
       "      <th>year_month</th>\n",
       "      <th>year</th>\n",
       "      <th>month</th>\n",
       "      <th>day</th>\n",
       "      <th>day_of_week</th>\n",
       "      <th>hour</th>\n",
       "    </tr>\n",
       "  </thead>\n",
       "  <tbody>\n",
       "    <tr>\n",
       "      <th>0</th>\n",
       "      <td>489434</td>\n",
       "      <td>United Kingdom</td>\n",
       "      <td>13085.0</td>\n",
       "      <td>85048</td>\n",
       "      <td>15cm christmas glass ball 20 lights</td>\n",
       "      <td>12</td>\n",
       "      <td>6.95</td>\n",
       "      <td>2009-12-01 07:45:00</td>\n",
       "      <td>83.4</td>\n",
       "      <td>200912</td>\n",
       "      <td>2009</td>\n",
       "      <td>12</td>\n",
       "      <td>1</td>\n",
       "      <td>2</td>\n",
       "      <td>7</td>\n",
       "    </tr>\n",
       "    <tr>\n",
       "      <th>1</th>\n",
       "      <td>489434</td>\n",
       "      <td>United Kingdom</td>\n",
       "      <td>13085.0</td>\n",
       "      <td>79323P</td>\n",
       "      <td>pink cherry lights</td>\n",
       "      <td>12</td>\n",
       "      <td>6.75</td>\n",
       "      <td>2009-12-01 07:45:00</td>\n",
       "      <td>81.0</td>\n",
       "      <td>200912</td>\n",
       "      <td>2009</td>\n",
       "      <td>12</td>\n",
       "      <td>1</td>\n",
       "      <td>2</td>\n",
       "      <td>7</td>\n",
       "    </tr>\n",
       "    <tr>\n",
       "      <th>2</th>\n",
       "      <td>489434</td>\n",
       "      <td>United Kingdom</td>\n",
       "      <td>13085.0</td>\n",
       "      <td>79323W</td>\n",
       "      <td>white cherry lights</td>\n",
       "      <td>12</td>\n",
       "      <td>6.75</td>\n",
       "      <td>2009-12-01 07:45:00</td>\n",
       "      <td>81.0</td>\n",
       "      <td>200912</td>\n",
       "      <td>2009</td>\n",
       "      <td>12</td>\n",
       "      <td>1</td>\n",
       "      <td>2</td>\n",
       "      <td>7</td>\n",
       "    </tr>\n",
       "    <tr>\n",
       "      <th>3</th>\n",
       "      <td>489434</td>\n",
       "      <td>United Kingdom</td>\n",
       "      <td>13085.0</td>\n",
       "      <td>22041</td>\n",
       "      <td>record frame 7\" single size</td>\n",
       "      <td>48</td>\n",
       "      <td>2.10</td>\n",
       "      <td>2009-12-01 07:45:00</td>\n",
       "      <td>100.8</td>\n",
       "      <td>200912</td>\n",
       "      <td>2009</td>\n",
       "      <td>12</td>\n",
       "      <td>1</td>\n",
       "      <td>2</td>\n",
       "      <td>7</td>\n",
       "    </tr>\n",
       "    <tr>\n",
       "      <th>4</th>\n",
       "      <td>489434</td>\n",
       "      <td>United Kingdom</td>\n",
       "      <td>13085.0</td>\n",
       "      <td>21232</td>\n",
       "      <td>strawberry ceramic trinket box</td>\n",
       "      <td>24</td>\n",
       "      <td>1.25</td>\n",
       "      <td>2009-12-01 07:45:00</td>\n",
       "      <td>30.0</td>\n",
       "      <td>200912</td>\n",
       "      <td>2009</td>\n",
       "      <td>12</td>\n",
       "      <td>1</td>\n",
       "      <td>2</td>\n",
       "      <td>7</td>\n",
       "    </tr>\n",
       "  </tbody>\n",
       "</table>\n",
       "</div>"
      ],
      "text/plain": [
       "  invoice         country  cust_id stock_code  \\\n",
       "0  489434  United Kingdom  13085.0      85048   \n",
       "1  489434  United Kingdom  13085.0     79323P   \n",
       "2  489434  United Kingdom  13085.0     79323W   \n",
       "3  489434  United Kingdom  13085.0      22041   \n",
       "4  489434  United Kingdom  13085.0      21232   \n",
       "\n",
       "                                  desc  quantity  unit_price  \\\n",
       "0  15cm christmas glass ball 20 lights        12        6.95   \n",
       "1                   pink cherry lights        12        6.75   \n",
       "2                  white cherry lights        12        6.75   \n",
       "3         record frame 7\" single size         48        2.10   \n",
       "4       strawberry ceramic trinket box        24        1.25   \n",
       "\n",
       "                 date  spent  year_month  year  month  day  day_of_week  hour  \n",
       "0 2009-12-01 07:45:00   83.4      200912  2009     12    1            2     7  \n",
       "1 2009-12-01 07:45:00   81.0      200912  2009     12    1            2     7  \n",
       "2 2009-12-01 07:45:00   81.0      200912  2009     12    1            2     7  \n",
       "3 2009-12-01 07:45:00  100.8      200912  2009     12    1            2     7  \n",
       "4 2009-12-01 07:45:00   30.0      200912  2009     12    1            2     7  "
      ]
     },
     "execution_count": 30,
     "metadata": {},
     "output_type": "execute_result"
    }
   ],
   "source": [
    "\n",
    "retail = retail[['invoice', 'country', 'cust_id', 'stock_code', 'desc','quantity', 'unit_price', 'date', 'spent', \n",
    "                 'year_month', 'year', 'month', 'day', 'day_of_week', 'hour']]\n",
    "retail.head()"
   ]
  },
  {
   "cell_type": "code",
   "execution_count": null,
   "metadata": {
    "collapsed": true
   },
   "outputs": [],
   "source": []
  },
  {
   "cell_type": "code",
   "execution_count": null,
   "metadata": {
    "collapsed": true
   },
   "outputs": [],
   "source": []
  }
 ],
 "metadata": {
  "colab": {
   "name": "Exercise8.02.ipynb",
   "provenance": []
  },
  "kernelspec": {
   "display_name": "Python 3",
   "language": "python",
   "name": "python3"
  },
  "language_info": {
   "codemirror_mode": {
    "name": "ipython",
    "version": 3
   },
   "file_extension": ".py",
   "mimetype": "text/x-python",
   "name": "python",
   "nbconvert_exporter": "python",
   "pygments_lexer": "ipython3",
   "version": "3.6.0"
  }
 },
 "nbformat": 4,
 "nbformat_minor": 0
}
